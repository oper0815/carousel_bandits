{
 "cells": [
  {
   "cell_type": "code",
   "execution_count": 1,
   "metadata": {},
   "outputs": [],
   "source": [
    "import pandas as pd\n",
    "import numpy as np\n",
    "from scipy.special import expit\n",
    "from functools import reduce\n",
    "from online_logistic_regression import OnlineLogisticRegression\n"
   ]
  },
  {
   "cell_type": "code",
   "execution_count": 2,
   "metadata": {},
   "outputs": [],
   "source": [
    "from environment import ContextualEnvironment\n",
    "from policies import KLUCBSegmentPolicy, RandomPolicy, ExploreThenCommitSegmentPolicy, EpsilonGreedySegmentPolicy, TSSegmentPolicy, LinearTSPolicy\n",
    "import argparse\n",
    "import json\n",
    "import logging\n",
    "import numpy as np\n",
    "import pandas as pd\n",
    "import time"
   ]
  },
  {
   "cell_type": "code",
   "execution_count": 3,
   "metadata": {},
   "outputs": [],
   "source": [
    "parser = argparse.ArgumentParser()\n",
    "parser.add_argument(\"--users_path\", type = str, default = \"data/user_features.csv\", required = False,\n",
    "                    help = \"Path to user features file\")\n",
    "parser.add_argument(\"--playlists_path\", type = str, default = \"data/playlist_features.csv\", required = False,\n",
    "                    help = \"Path to playlist features file\")\n",
    "parser.add_argument(\"--output_path\", type = str, default = \"results.json\", required = False,\n",
    "                    help = \"Path to json file to save regret values\")\n",
    "parser.add_argument(\"--policies\", type = str, default = \"random,ts-seg-naive\", required = False,\n",
    "                    help = \"Bandit algorithms to evaluate, separated by commas\")\n",
    "parser.add_argument(\"--n_recos\", type = int, default = 12, required = False,\n",
    "                    help = \"Number of slots L in the carousel i.e. number of recommendations to provide\")\n",
    "parser.add_argument(\"--l_init\", type = int, default = 3, required = False,\n",
    "                    help = \"Number of slots L_init initially visible in the carousel\")\n",
    "parser.add_argument(\"--n_users_per_round\", type = int, default = 20000, required = False,\n",
    "                    help = \"Number of users randomly selected (with replacement) per round\")\n",
    "parser.add_argument(\"--n_rounds\", type = int, default = 100, required = False,\n",
    "                    help = \"Number of simulated rounds\")\n",
    "parser.add_argument(\"--print_every\", type = int, default = 10, required = False,\n",
    "                    help = \"Print cumulative regrets every 'print_every' round\")\n",
    "\n",
    "args = parser.parse_args(args = [])"
   ]
  },
  {
   "cell_type": "code",
   "execution_count": 4,
   "metadata": {},
   "outputs": [],
   "source": [
    "playlists_df = pd.read_csv('data/playlist_features.csv')\n",
    "\n",
    "users_df = pd.read_csv('data/user_features_small.csv')\n",
    "\n",
    "n_users = len(users_df)\n",
    "n_playlists = len(playlists_df)"
   ]
  },
  {
   "cell_type": "code",
   "execution_count": 5,
   "metadata": {},
   "outputs": [],
   "source": [
    "user_features = np.array(users_df.drop([\"segment\"], axis = 1))\n",
    "user_features = np.concatenate([user_features, np.ones((n_users,1))], axis = 1)\n",
    "playlist_features = np.array(playlists_df)"
   ]
  },
  {
   "cell_type": "code",
   "execution_count": 6,
   "metadata": {},
   "outputs": [],
   "source": [
    "user_segment = np.array(users_df.segment)"
   ]
  },
  {
   "cell_type": "code",
   "execution_count": 7,
   "metadata": {},
   "outputs": [
    {
     "data": {
      "text/plain": [
       "array([0, 0, 0, 0, 0, 0, 0, 0, 0], dtype=int64)"
      ]
     },
     "execution_count": 7,
     "metadata": {},
     "output_type": "execute_result"
    }
   ],
   "source": [
    "user_segment"
   ]
  },
  {
   "cell_type": "code",
   "execution_count": 8,
   "metadata": {},
   "outputs": [],
   "source": [
    "def set_policies(policies_name, user_segment, user_features, n_playlists):\n",
    "    # Please see section 3.3 of RecSys paper for a description of policies\n",
    "    POLICIES_SETTINGS = {\n",
    "        'random' : RandomPolicy(n_playlists),\n",
    "        'etc-seg-explore' : ExploreThenCommitSegmentPolicy(user_segment, n_playlists, min_n = 100, cascade_model = True),\n",
    "        'etc-seg-exploit' : ExploreThenCommitSegmentPolicy(user_segment, n_playlists, min_n = 20, cascade_model = True),\n",
    "        'epsilon-greedy-explore' : EpsilonGreedySegmentPolicy(user_segment, n_playlists, epsilon = 0.1, cascade_model = True),\n",
    "        'epsilon-greedy-exploit' : EpsilonGreedySegmentPolicy(user_segment, n_playlists, epsilon = 0.01, cascade_model = True),\n",
    "        'kl-ucb-seg' : KLUCBSegmentPolicy(user_segment, n_playlists, cascade_model = True),\n",
    "        'ts-seg-naive' : TSSegmentPolicy(user_segment, n_playlists, alpha_zero = 1, beta_zero = 1, cascade_model = True),\n",
    "        'ts-seg-pessimistic' : TSSegmentPolicy(user_segment, n_playlists, alpha_zero = 1, beta_zero = 99, cascade_model = True),\n",
    "        'ts-lin-naive' : LinearTSPolicy(user_features, n_playlists, bias = 0.0, cascade_model = True),\n",
    "        'ts-lin-pessimistic' : LinearTSPolicy(user_features, n_playlists, bias = -5.0, cascade_model = True),\n",
    "        # Versions of epsilon-greedy-explore and ts-seg-pessimistic WITHOUT cascade model\n",
    "        'epsilon-greedy-explore-no-cascade' : EpsilonGreedySegmentPolicy(user_segment, n_playlists, epsilon = 0.1, cascade_model = False),\n",
    "        'ts-seg-pessimistic-no-cascade' : TSSegmentPolicy(user_segment, n_playlists, alpha_zero = 1, beta_zero = 99, cascade_model = False)\n",
    "    }\n",
    "\n",
    "    return [POLICIES_SETTINGS[name] for name in policies_name]"
   ]
  },
  {
   "cell_type": "code",
   "execution_count": 9,
   "metadata": {},
   "outputs": [],
   "source": [
    "po = 'random,ts-lin-pessimistic,ts-seg-pessimistic'\n",
    "policies_name = po.split(\",\")"
   ]
  },
  {
   "cell_type": "code",
   "execution_count": 10,
   "metadata": {},
   "outputs": [],
   "source": [
    "policies = set_policies(policies_name, user_segment, user_features, n_playlists)"
   ]
  },
  {
   "cell_type": "code",
   "execution_count": 11,
   "metadata": {},
   "outputs": [
    {
     "data": {
      "text/plain": [
       "['random', 'ts-lin-pessimistic', 'ts-seg-pessimistic']"
      ]
     },
     "execution_count": 11,
     "metadata": {},
     "output_type": "execute_result"
    }
   ],
   "source": [
    "policies_name"
   ]
  },
  {
   "cell_type": "code",
   "execution_count": 12,
   "metadata": {},
   "outputs": [],
   "source": [
    "n_policies = len(policies) # 3\n",
    "n_users_per_round = args.n_users_per_round\n",
    "n_rounds = args.n_rounds\n",
    "overall_rewards = np.zeros((n_policies, n_rounds))\n",
    "overall_optimal_reward = np.zeros(n_rounds)"
   ]
  },
  {
   "cell_type": "code",
   "execution_count": 13,
   "metadata": {},
   "outputs": [],
   "source": [
    "cont_env = ContextualEnvironment(user_features, playlist_features, user_segment, args.n_recos)"
   ]
  },
  {
   "cell_type": "code",
   "execution_count": 14,
   "metadata": {},
   "outputs": [
    {
     "data": {
      "text/plain": [
       "array([0.51069545, 0.60661954, 0.45462272, 0.35597582, 0.45974146,\n",
       "       0.33826388, 0.94396647, 0.6756706 , 0.35810638])"
      ]
     },
     "execution_count": 14,
     "metadata": {},
     "output_type": "execute_result"
    }
   ],
   "source": [
    "cont_env.th_rewards"
   ]
  },
  {
   "cell_type": "code",
   "execution_count": 15,
   "metadata": {},
   "outputs": [],
   "source": [
    "user_ids = np.random.choice(range(n_users), n_users_per_round) # range * 수"
   ]
  },
  {
   "cell_type": "code",
   "execution_count": 16,
   "metadata": {},
   "outputs": [
    {
     "data": {
      "text/plain": [
       "10521.409422646326"
      ]
     },
     "execution_count": 16,
     "metadata": {},
     "output_type": "execute_result"
    }
   ],
   "source": [
    "np.take(cont_env.th_rewards, user_ids).sum()"
   ]
  },
  {
   "cell_type": "code",
   "execution_count": 17,
   "metadata": {},
   "outputs": [],
   "source": [
    "n_users = 9\n",
    "u = 0\n",
    "step = 100000"
   ]
  },
  {
   "cell_type": "code",
   "execution_count": 18,
   "metadata": {},
   "outputs": [],
   "source": [
    "probas = np.take(user_features, range(0,9), axis = 0).dot(playlist_features.T)"
   ]
  },
  {
   "cell_type": "code",
   "execution_count": 19,
   "metadata": {},
   "outputs": [],
   "source": [
    "so = np.argsort(-probas)[:, :12]"
   ]
  },
  {
   "cell_type": "code",
   "execution_count": 20,
   "metadata": {},
   "outputs": [],
   "source": [
    "so1 = np.take(playlist_features, so, axis = 0)"
   ]
  },
  {
   "cell_type": "code",
   "execution_count": 21,
   "metadata": {},
   "outputs": [],
   "source": [
    "batch_user_ids = range(0,9)\n",
    "batch_recos = so\n",
    "batch_user_features = np.take(user_features, batch_user_ids, axis = 0)              # batch 안에 있는 user에 대한 user_feature만 추출\n",
    "batch_playlist_features = np.take(playlist_features, batch_recos, axis = 0)    # 추천리스트에 있는 item에 대한 feature 추출\n",
    "n_users = len(batch_user_ids)                                                       # batch 내에 있는 유저 수\n",
    "th_reward = np.zeros(n_users)                                                       # zero vector 생성 (user 수)\n",
    "for i in range(n_users):                                                            # user 수 만큼 for 문 수행\n",
    "    probas = expit(batch_user_features[i].dot(batch_playlist_features[i].T)) \n",
    "    th_reward[i] = 1 - reduce(lambda x,y : x * y, 1 - probas)"
   ]
  },
  {
   "cell_type": "code",
   "execution_count": 22,
   "metadata": {},
   "outputs": [
    {
     "data": {
      "text/plain": [
       "array([-2.66080412, -2.93343552, -2.95593961, -3.30119431, -3.36031116,\n",
       "       -3.42852429, -3.46619029, -3.47532706, -3.49337995, -3.56729809,\n",
       "       -3.62311179, -3.65233738])"
      ]
     },
     "execution_count": 22,
     "metadata": {},
     "output_type": "execute_result"
    }
   ],
   "source": [
    "batch_user_features[i].dot(batch_playlist_features[i].T)"
   ]
  },
  {
   "cell_type": "code",
   "execution_count": 23,
   "metadata": {},
   "outputs": [
    {
     "data": {
      "text/plain": [
       "array([0.06532622, 0.05052526, 0.04945654, 0.03553024, 0.03355913,\n",
       "       0.03141581, 0.03028968, 0.03002246, 0.02950118, 0.02745687,\n",
       "       0.02600514, 0.02527506])"
      ]
     },
     "execution_count": 23,
     "metadata": {},
     "output_type": "execute_result"
    }
   ],
   "source": [
    "expit(batch_user_features[i].dot(batch_playlist_features[i].T)) "
   ]
  },
  {
   "cell_type": "code",
   "execution_count": 24,
   "metadata": {},
   "outputs": [],
   "source": [
    "for i in range(9):                                                            # user 수 만큼 for 문 수행\n",
    "    probas = expit(np.take(user_features, range(0,9), axis = 0)[i].dot(so1[i].T))        # sigmoid \n",
    "    th_reward[i] = 1 - reduce(lambda x,y : x * y, 1 - probas)"
   ]
  },
  {
   "cell_type": "code",
   "execution_count": 25,
   "metadata": {},
   "outputs": [],
   "source": [
    "th_rewards = np.zeros(user_features.shape[0]) "
   ]
  },
  {
   "cell_type": "code",
   "execution_count": 26,
   "metadata": {},
   "outputs": [],
   "source": [
    "th_rewards[0:9] = th_reward"
   ]
  },
  {
   "cell_type": "code",
   "execution_count": 27,
   "metadata": {},
   "outputs": [],
   "source": [
    "user_segment = np.array(users_df.segment)"
   ]
  },
  {
   "cell_type": "code",
   "execution_count": 28,
   "metadata": {},
   "outputs": [
    {
     "data": {
      "text/plain": [
       "array([0, 0, 0, 0, 0, 0, 0, 0, 0], dtype=int64)"
      ]
     },
     "execution_count": 28,
     "metadata": {},
     "output_type": "execute_result"
    }
   ],
   "source": [
    "user_segment"
   ]
  },
  {
   "cell_type": "code",
   "execution_count": 29,
   "metadata": {},
   "outputs": [],
   "source": [
    "n_segments = len(np.unique(user_segment))                              # unique 한 segment 수\n",
    "segment_recos = np.zeros((n_segments, 12), dtype = np.int64)                 # (segment 수, 추천리스트 수) > segment 별로 동일한 추천리스트 생성\n",
    "for i in range(n_segments):\n",
    "    mean_probas = np.mean(expit(np.take(user_features, np.where(user_segment == i)[0], axis = 0).dot(playlist_features.T)), axis = 0)\n",
    "    reward = 1 - reduce(lambda x,y : x * y, 1 + np.sort(-mean_probas)[:12])\n",
    "    segment_recos[i] = np.argsort(-mean_probas)[:12]"
   ]
  },
  {
   "cell_type": "code",
   "execution_count": 30,
   "metadata": {},
   "outputs": [
    {
     "data": {
      "text/plain": [
       "array([[195, 371,  51, 408, 128, 413, 251, 718, 396, 172, 178, 252]],\n",
       "      dtype=int64)"
      ]
     },
     "execution_count": 30,
     "metadata": {},
     "output_type": "execute_result"
    }
   ],
   "source": [
    "segment_recos"
   ]
  },
  {
   "cell_type": "code",
   "execution_count": 31,
   "metadata": {},
   "outputs": [],
   "source": [
    "users_ids = range(u, min(n_users, u + step))"
   ]
  },
  {
   "cell_type": "code",
   "execution_count": 32,
   "metadata": {},
   "outputs": [],
   "source": [
    "user_segment = np.take(user_segment, users_ids)                    # batch 안에 있는 user의 segment 추출\n",
    "opt_recos = np.take(segment_recos, user_segment, axis = 0)"
   ]
  },
  {
   "cell_type": "code",
   "execution_count": 33,
   "metadata": {},
   "outputs": [
    {
     "data": {
      "text/plain": [
       "array([0.51069545, 0.60661954, 0.45462272, 0.35597582, 0.45974146,\n",
       "       0.33826388, 0.94396647, 0.6756706 , 0.35810638])"
      ]
     },
     "execution_count": 33,
     "metadata": {},
     "output_type": "execute_result"
    }
   ],
   "source": [
    "th_rewards"
   ]
  },
  {
   "cell_type": "code",
   "execution_count": 34,
   "metadata": {},
   "outputs": [],
   "source": [
    "user_ids = np.random.choice(range(n_users), n_users_per_round)                                  # 전체 유저에서 batch 크기 만큼 샘플링 / 중복 유저도 가능한데...?\n",
    "overall_optimal_reward = np.take(cont_env.th_rewards, user_ids).sum()"
   ]
  },
  {
   "cell_type": "code",
   "execution_count": 35,
   "metadata": {},
   "outputs": [
    {
     "ename": "KeyboardInterrupt",
     "evalue": "",
     "output_type": "error",
     "traceback": [
      "\u001b[1;31m---------------------------------------------------------------------------\u001b[0m",
      "\u001b[1;31mKeyboardInterrupt\u001b[0m                         Traceback (most recent call last)",
      "Cell \u001b[1;32mIn[35], line 3\u001b[0m\n\u001b[0;32m      1\u001b[0m \u001b[39mfor\u001b[39;00m j \u001b[39min\u001b[39;00m \u001b[39mrange\u001b[39m(n_policies):\n\u001b[0;32m      2\u001b[0m     \u001b[39m# Compute n_recos recommendations\u001b[39;00m\n\u001b[1;32m----> 3\u001b[0m     recos \u001b[39m=\u001b[39m policies[j]\u001b[39m.\u001b[39;49mrecommend_to_users_batch(user_ids, args\u001b[39m.\u001b[39;49mn_recos, args\u001b[39m.\u001b[39;49ml_init)\n\u001b[0;32m      4\u001b[0m     \u001b[39m# Compute rewards\u001b[39;00m\n\u001b[0;32m      5\u001b[0m     rewards \u001b[39m=\u001b[39m cont_env\u001b[39m.\u001b[39msimulate_batch_users_reward(batch_user_ids\u001b[39m=\u001b[39m user_ids, batch_recos\u001b[39m=\u001b[39mrecos)\n",
      "File \u001b[1;32mc:\\Users\\LMS\\Desktop\\code\\recommend\\carousel_bandits\\policies.py:264\u001b[0m, in \u001b[0;36mLinearTSPolicy.recommend_to_users_batch\u001b[1;34m(self, batch_users, n_recos, l_init)\u001b[0m\n\u001b[0;32m    262\u001b[0m \u001b[39mwhile\u001b[39;00m u \u001b[39m<\u001b[39m n_users:                                                                              \u001b[39m# 유저 한명씩 수행\u001b[39;00m\n\u001b[0;32m    263\u001b[0m     u_next \u001b[39m=\u001b[39m \u001b[39mmin\u001b[39m(n_users, u\u001b[39m+\u001b[39mstep)                                                               \u001b[39m# 다음 유저\u001b[39;00m\n\u001b[1;32m--> 264\u001b[0m     p_features_sampled \u001b[39m=\u001b[39m(np\u001b[39m.\u001b[39;49mrandom\u001b[39m.\u001b[39;49mnormal(\u001b[39mself\u001b[39;49m\u001b[39m.\u001b[39;49mm, \u001b[39m1\u001b[39;49m\u001b[39m/\u001b[39;49mnp\u001b[39m.\u001b[39;49msqrt(\u001b[39mself\u001b[39;49m\u001b[39m.\u001b[39;49mq), size\u001b[39m=\u001b[39;49m (u_next\u001b[39m-\u001b[39;49mu, \u001b[39mself\u001b[39;49m\u001b[39m.\u001b[39;49mn_playlists, \u001b[39mself\u001b[39;49m\u001b[39m.\u001b[39;49mn_dim)))   \u001b[39m###### 시작\u001b[39;00m\n\u001b[0;32m    265\u001b[0m     step_p \u001b[39m=\u001b[39m p_features_sampled\u001b[39m.\u001b[39mdot(user_features[u:u_next]\u001b[39m.\u001b[39mT)\n\u001b[0;32m    266\u001b[0m     \u001b[39mfor\u001b[39;00m i \u001b[39min\u001b[39;00m \u001b[39mrange\u001b[39m(u_next \u001b[39m-\u001b[39m u):\n",
      "\u001b[1;31mKeyboardInterrupt\u001b[0m: "
     ]
    }
   ],
   "source": [
    "for j in range(n_policies):\n",
    "    # Compute n_recos recommendations\n",
    "    recos = policies[j].recommend_to_users_batch(user_ids, args.n_recos, args.l_init)\n",
    "    # Compute rewards\n",
    "    rewards = cont_env.simulate_batch_users_reward(batch_user_ids= user_ids, batch_recos=recos)\n",
    "    # Update policy based on rewards\n",
    "    policies[j].update_policy(user_ids, recos, rewards, args.l_init)\n",
    "    overall_rewards[j,i] = rewards.sum()\n",
    "# Print info\n",
    "if i == 0 or (i+1) % print_every == 0 or i+1 == n_rounds:\n",
    "    logger.info(\"Round: %d/%d. Elapsed time: %f sec.\" % (i+1, n_rounds, time.time() - start_time))\n",
    "    logger.info(\"Cumulative regrets: \\n%s \\n\" % \"\\n\".join([\"\t%s : %s\" % (policies_name[j], str(np.sum(overall_optimal_reward - overall_rewards[j]))) for j in range(n_policies)]))\n",
    "\n"
   ]
  },
  {
   "cell_type": "code",
   "execution_count": 35,
   "metadata": {},
   "outputs": [],
   "source": [
    "recos = policies[2].recommend_to_users_batch(user_ids, args.n_recos, args.l_init)"
   ]
  },
  {
   "cell_type": "code",
   "execution_count": 36,
   "metadata": {},
   "outputs": [
    {
     "data": {
      "text/plain": [
       "(20000, 12)"
      ]
     },
     "execution_count": 36,
     "metadata": {},
     "output_type": "execute_result"
    }
   ],
   "source": [
    "recos.shape"
   ]
  },
  {
   "cell_type": "code",
   "execution_count": 45,
   "metadata": {},
   "outputs": [],
   "source": [
    "def __init__(self, user_features, n_playlists, bias=0.0, cascade_model=True):                       # LinearTSPolicy(user_features, n_playlists, bias = -5.0, cascade_model = True)\n",
    "    self.user_features = user_features\n",
    "    n_dim = user_features.shape[1]                                                                  # user feature dimension : 97\n",
    "    self.n_playlists = n_playlists                                                                  # item 수 : 862\n",
    "    self.models = [OnlineLogisticRegression(1, 1, n_dim, bias, 15) for i in range(n_playlists)]     # item\n",
    "    self.m = np.zeros((n_playlists, n_dim))                                                         # item feature matrix\n",
    "    self.m[:, -1] = bias\n",
    "    self.q = np.ones((n_playlists, n_dim))\n",
    "    self.n_dim = n_dim\n",
    "    self.cascade_model = cascade_model"
   ]
  },
  {
   "cell_type": "code",
   "execution_count": 37,
   "metadata": {},
   "outputs": [
    {
     "data": {
      "text/plain": [
       "array([ 0.3253783 ,  0.78779714,  1.89009634, -2.30583962, -0.86405902,\n",
       "       -0.75174169,  0.12080632, -2.55030541, -0.0748333 ,  0.50496196,\n",
       "        0.18839995,  1.29313041, -0.92643271, -0.65008824,  2.22925202,\n",
       "       -0.12727471,  0.89694574, -0.20996351, -0.96924606, -0.54598823,\n",
       "       -0.91500641, -0.11683971, -0.10921915, -0.80916804,  1.13970442,\n",
       "        2.09341808, -1.0072589 , -1.02885565, -0.55029619, -0.88712835,\n",
       "        0.09623376,  0.7359596 ,  2.21747589,  0.2503986 , -2.52534861,\n",
       "        1.09520324, -1.08866139, -0.47551696,  1.27435851,  0.5842363 ,\n",
       "        0.55656989,  0.00591958,  0.11485104, -0.80918276,  0.63692869,\n",
       "       -0.35121146, -0.45229774,  1.23987654, -0.82766722, -0.44785091,\n",
       "        1.43075643, -0.31205146, -1.38099833, -1.112707  , -0.05090673,\n",
       "       -0.51951277, -0.61800099, -2.36417829, -3.22414369,  0.29890316,\n",
       "       -1.00395265, -1.51411378, -2.39669506,  0.58235952, -0.62578034,\n",
       "       -0.3932497 ,  0.68594959,  0.0547951 ,  0.08147499, -1.39329569,\n",
       "       -0.61466486,  0.53216287, -0.2387987 ,  0.14429863,  0.04093532,\n",
       "       -0.33338926,  0.82182797,  0.82974767,  1.57331387,  0.98545018,\n",
       "        0.4848952 ,  0.91898275,  1.10655119,  0.2645195 , -0.31264359,\n",
       "        0.88963806,  1.1909065 ,  0.42220369,  0.4045811 ,  0.83098492,\n",
       "       -0.26911125,  0.13131105,  0.3351211 ,  0.64221021,  0.72479785,\n",
       "        0.87235744,  1.65796109])"
      ]
     },
     "execution_count": 37,
     "metadata": {},
     "output_type": "execute_result"
    }
   ],
   "source": [
    "OnlineLogisticRegression(1, 1, 97, 0, 15).w"
   ]
  },
  {
   "cell_type": "code",
   "execution_count": 41,
   "metadata": {},
   "outputs": [
    {
     "ename": "NameError",
     "evalue": "name 'self' is not defined",
     "output_type": "error",
     "traceback": [
      "\u001b[1;31m---------------------------------------------------------------------------\u001b[0m",
      "\u001b[1;31mNameError\u001b[0m                                 Traceback (most recent call last)",
      "Cell \u001b[1;32mIn[41], line 1\u001b[0m\n\u001b[1;32m----> 1\u001b[0m user_features \u001b[39m=\u001b[39m np\u001b[39m.\u001b[39mtake(\u001b[39mself\u001b[39;49m\u001b[39m.\u001b[39muser_features, batch_users, axis\u001b[39m=\u001b[39m\u001b[39m0\u001b[39m)                                \u001b[39m# batch 내 user의 feature 추출\u001b[39;00m\n\u001b[0;32m      2\u001b[0m n_users \u001b[39m=\u001b[39m \u001b[39mlen\u001b[39m(batch_users)                                                                      \u001b[39m# batch 내 유저 수\u001b[39;00m\n\u001b[0;32m      3\u001b[0m recos \u001b[39m=\u001b[39m np\u001b[39m.\u001b[39mzeros((n_users, n_recos), dtype\u001b[39m=\u001b[39mnp\u001b[39m.\u001b[39mint64)                                            \u001b[39m# 추천리스트 init 생성\u001b[39;00m\n",
      "\u001b[1;31mNameError\u001b[0m: name 'self' is not defined"
     ]
    }
   ],
   "source": [
    "user_features = np.take(self.user_features, batch_users, axis=0)                                # batch 내 user의 feature 추출\n",
    "n_users = len(batch_users)                                                                      # batch 내 유저 수\n",
    "recos = np.zeros((n_users, n_recos), dtype=np.int64)                                            # 추천리스트 init 생성\n",
    "step = 1\n",
    "u = 0\n",
    "while u < n_users:\n",
    "    u_next = min(n_users, u+step)\n",
    "    p_features_sampled =(np.random.normal(self.m, 1/np.sqrt(self.q), size= (u_next-u, self.n_playlists, self.n_dim)))   ###### 시작\n",
    "    step_p = p_features_sampled.dot(user_features[u:u_next].T)\n",
    "    for i in range(u_next - u):\n",
    "        recos[u+i] = np.argsort((-step_p[i,:,i]))[:n_recos]\n",
    "    u += step\n",
    "# Shuffle l_init first slots\n",
    "np.random.shuffle(recos[0:l_init])\n",
    "return recos"
   ]
  },
  {
   "cell_type": "code",
   "execution_count": 38,
   "metadata": {},
   "outputs": [],
   "source": [
    "m = np.zeros((782, 97))                                                         # item feature matrix\n",
    "q = np.ones((782, 97))"
   ]
  },
  {
   "cell_type": "code",
   "execution_count": 40,
   "metadata": {},
   "outputs": [],
   "source": [
    "p_features_sampled = np.random.normal(m,q,size=(1,782,97))"
   ]
  },
  {
   "cell_type": "code",
   "execution_count": 41,
   "metadata": {},
   "outputs": [
    {
     "data": {
      "text/plain": [
       "(1, 782, 97)"
      ]
     },
     "execution_count": 41,
     "metadata": {},
     "output_type": "execute_result"
    }
   ],
   "source": [
    "p_features_sampled.shape"
   ]
  },
  {
   "cell_type": "code",
   "execution_count": 42,
   "metadata": {},
   "outputs": [],
   "source": [
    "step_p = p_features_sampled.dot(user_features[u:1].T)"
   ]
  },
  {
   "cell_type": "code",
   "execution_count": 44,
   "metadata": {},
   "outputs": [
    {
     "data": {
      "text/plain": [
       "array([703, 260, 411, 378, 690, 266,  95, 679, 395, 441, 280, 121],\n",
       "      dtype=int64)"
      ]
     },
     "execution_count": 44,
     "metadata": {},
     "output_type": "execute_result"
    }
   ],
   "source": [
    "np.argsort((-step_p[i,:,i]))[:12]"
   ]
  },
  {
   "cell_type": "code",
   "execution_count": 45,
   "metadata": {},
   "outputs": [],
   "source": [
    "recos = np.zeros((20000, 12), dtype=np.int64)"
   ]
  },
  {
   "cell_type": "code",
   "execution_count": 128,
   "metadata": {},
   "outputs": [],
   "source": [
    "batch_user_features = np.take(user_features, user_ids, axis = 0)             # 샘플된 유저의 features  (s_user, 97)\n",
    "batch_playlist_features = np.take(playlist_features, recos, axis = 0)        # 추천리스트의 item feature\n",
    "n_users = len(user_ids)\n",
    "n = len(batch_recos[0])\n",
    "probas = np.zeros((n_users, n))\n",
    "for i in range(n_users):\n",
    "    probas[i] = expit(batch_user_features[i].dot(batch_playlist_features[i].T)) # probability to stream each reco\n",
    "rewards = np.zeros((n_users, n))\n",
    "i = 0\n",
    "rewards_uncascaded = np.random.binomial(1, probas) # drawing rewards from probabilities\n",
    "positive_rewards = set()"
   ]
  },
  {
   "cell_type": "code",
   "execution_count": 129,
   "metadata": {},
   "outputs": [],
   "source": [
    "nz = rewards_uncascaded.nonzero()"
   ]
  },
  {
   "cell_type": "code",
   "execution_count": 130,
   "metadata": {},
   "outputs": [],
   "source": [
    "positive_rewards = set()"
   ]
  },
  {
   "cell_type": "code",
   "execution_count": 140,
   "metadata": {},
   "outputs": [
    {
     "data": {
      "text/plain": [
       "array([0., 0., 0., 0., 0., 1., 0., 0., 0., 0., 0., 0.])"
      ]
     },
     "execution_count": 140,
     "metadata": {},
     "output_type": "execute_result"
    }
   ],
   "source": [
    "rewards[1]"
   ]
  },
  {
   "cell_type": "code",
   "execution_count": 152,
   "metadata": {},
   "outputs": [
    {
     "data": {
      "text/plain": [
       "(array([    1,     1,    28, ..., 19983, 19984, 19989], dtype=int64),\n",
       " array([ 5, 11,  6, ...,  1,  4, 10], dtype=int64))"
      ]
     },
     "execution_count": 152,
     "metadata": {},
     "output_type": "execute_result"
    }
   ],
   "source": [
    "nz       # 1681"
   ]
  },
  {
   "cell_type": "code",
   "execution_count": 131,
   "metadata": {},
   "outputs": [],
   "source": [
    "for i in range(len(nz[0])):\n",
    "    if nz[0][i] not in positive_rewards:\n",
    "        rewards[nz[0][i]][nz[1][i]] = 1\n",
    "        positive_rewards.add(nz[0][i])"
   ]
  },
  {
   "cell_type": "code",
   "execution_count": null,
   "metadata": {},
   "outputs": [],
   "source": [
    "policies[j].update_policy(user_ids, recos, rewards, args.l_init) # 20,000"
   ]
  },
  {
   "cell_type": "code",
   "execution_count": 160,
   "metadata": {},
   "outputs": [
    {
     "data": {
      "text/plain": [
       "(20000, 12)"
      ]
     },
     "execution_count": 160,
     "metadata": {},
     "output_type": "execute_result"
    }
   ],
   "source": [
    "rewards.shape"
   ]
  },
  {
   "cell_type": "code",
   "execution_count": null,
   "metadata": {},
   "outputs": [],
   "source": [
    "def update_policy(user_ids, recos , rewards, l_init=3):\n",
    "    rewards = 2*rewards - 1\n",
    "    batch_size = len(user_ids)\n",
    "    modified_playlists ={}\n",
    "    for i in range(batch_size):\n",
    "        total_stream = len(rewards[i].nonzero())\n",
    "        nb_display = 0\n",
    "        for p, r in zip(recos[i], rewards[i]):\n",
    "            nb_display +=1\n",
    "            if p not in modified_playlists:\n",
    "                modified_playlists[p] = {\"X\" : [], \"Y\" : []}\n",
    "            modified_playlists[p][\"X\"].append(user_features[user_ids[i]])\n",
    "            modified_playlists[p][\"Y\"].append(r)\n",
    "            if cascade_model and ((total_stream == 0 and nb_display == l_init) or (r == 1)):\n",
    "                break\n",
    "    for p,v in modified_playlists.items():\n",
    "        X = np.array(v[\"X\"])\n",
    "        Y = np.array(v[\"Y\"])\n",
    "        models[p].fit(X,Y)\n",
    "        m[p] = models[p].m\n",
    "        q[p] = models[p].q\n",
    "    return"
   ]
  },
  {
   "cell_type": "code",
   "execution_count": 161,
   "metadata": {},
   "outputs": [],
   "source": [
    "rewards = 2*rewards - 1"
   ]
  },
  {
   "cell_type": "code",
   "execution_count": 191,
   "metadata": {},
   "outputs": [
    {
     "data": {
      "text/plain": [
       "(97,)"
      ]
     },
     "execution_count": 191,
     "metadata": {},
     "output_type": "execute_result"
    }
   ],
   "source": [
    "user_features[user_ids[0]].shape"
   ]
  },
  {
   "cell_type": "code",
   "execution_count": 187,
   "metadata": {},
   "outputs": [
    {
     "name": "stdout",
     "output_type": "stream",
     "text": [
      "0\n",
      "-1.0\n",
      "{}\n",
      "0\n",
      "-1.0\n",
      "{0: {'X': [array([ 3.55553091e-01,  1.31532991e+00, -5.43776512e-01,  2.49324751e+00,\n",
      "        3.04174900e+00, -3.02621651e+00, -7.34425604e-01,  2.78896272e-01,\n",
      "        3.52283150e-01,  1.44344413e+00, -8.06229949e-01, -5.83925009e-01,\n",
      "        6.21066093e-01, -1.05118573e+00,  8.35603297e-01,  4.00180995e-01,\n",
      "       -1.28851902e+00,  8.46201658e-01, -5.28531551e-01,  8.30040216e-01,\n",
      "       -1.13057756e+00, -1.23820865e+00, -1.34782064e+00,  8.41158509e-01,\n",
      "       -1.28062272e+00,  2.08898336e-01, -1.95007038e+00, -6.70083106e-01,\n",
      "        6.48224473e-01, -9.37087119e-01,  2.10556746e+00, -3.70274067e-01,\n",
      "        2.56791902e+00, -1.24837029e+00,  1.22563410e+00, -2.18630528e+00,\n",
      "        4.15721655e-01,  3.67577672e-01,  7.64593601e-01, -1.37893558e+00,\n",
      "        1.06899589e-01, -2.12456480e-01,  2.43348718e-01,  1.81733295e-01,\n",
      "       -9.80804563e-01,  3.89862448e-01, -3.43725729e+00,  1.52576901e-03,\n",
      "        1.15752971e+00,  7.42830217e-01, -2.22440168e-01,  6.64128125e-01,\n",
      "        1.53505176e-01, -2.69848585e-01, -2.10847402e+00,  1.60026217e+00,\n",
      "        4.13530445e+00, -4.79115009e-01, -2.54533529e+00, -9.16401088e-01,\n",
      "        4.56027120e-01, -4.00804192e-01,  1.63251853e+00,  7.48642921e-01,\n",
      "        2.70441389e+00,  5.54367065e-01, -2.25531697e-01,  2.21962738e+00,\n",
      "        4.45801973e-01, -2.21013689e+00, -2.03744173e+00, -9.41252351e-01,\n",
      "        1.24999130e+00,  7.82664716e-01,  9.33400095e-01, -3.27522028e-03,\n",
      "        8.54603887e-01,  1.02984667e+00, -2.28017664e+00, -1.35358274e+00,\n",
      "       -1.79103541e+00,  4.30181265e+00,  1.18015075e+00, -1.19642639e+00,\n",
      "       -2.65788889e+00, -1.57755566e+00,  7.67703533e-01, -1.03482270e+00,\n",
      "        1.68446743e+00,  5.81240177e-01, -1.79000294e+00,  1.02068102e+00,\n",
      "        3.94289970e+00,  1.41761410e+00,  1.60656556e-01, -7.08673775e-01,\n",
      "        1.00000000e+00])], 'Y': [-1.0]}}\n",
      "0\n",
      "-1.0\n",
      "{0: {'X': [array([ 3.55553091e-01,  1.31532991e+00, -5.43776512e-01,  2.49324751e+00,\n",
      "        3.04174900e+00, -3.02621651e+00, -7.34425604e-01,  2.78896272e-01,\n",
      "        3.52283150e-01,  1.44344413e+00, -8.06229949e-01, -5.83925009e-01,\n",
      "        6.21066093e-01, -1.05118573e+00,  8.35603297e-01,  4.00180995e-01,\n",
      "       -1.28851902e+00,  8.46201658e-01, -5.28531551e-01,  8.30040216e-01,\n",
      "       -1.13057756e+00, -1.23820865e+00, -1.34782064e+00,  8.41158509e-01,\n",
      "       -1.28062272e+00,  2.08898336e-01, -1.95007038e+00, -6.70083106e-01,\n",
      "        6.48224473e-01, -9.37087119e-01,  2.10556746e+00, -3.70274067e-01,\n",
      "        2.56791902e+00, -1.24837029e+00,  1.22563410e+00, -2.18630528e+00,\n",
      "        4.15721655e-01,  3.67577672e-01,  7.64593601e-01, -1.37893558e+00,\n",
      "        1.06899589e-01, -2.12456480e-01,  2.43348718e-01,  1.81733295e-01,\n",
      "       -9.80804563e-01,  3.89862448e-01, -3.43725729e+00,  1.52576901e-03,\n",
      "        1.15752971e+00,  7.42830217e-01, -2.22440168e-01,  6.64128125e-01,\n",
      "        1.53505176e-01, -2.69848585e-01, -2.10847402e+00,  1.60026217e+00,\n",
      "        4.13530445e+00, -4.79115009e-01, -2.54533529e+00, -9.16401088e-01,\n",
      "        4.56027120e-01, -4.00804192e-01,  1.63251853e+00,  7.48642921e-01,\n",
      "        2.70441389e+00,  5.54367065e-01, -2.25531697e-01,  2.21962738e+00,\n",
      "        4.45801973e-01, -2.21013689e+00, -2.03744173e+00, -9.41252351e-01,\n",
      "        1.24999130e+00,  7.82664716e-01,  9.33400095e-01, -3.27522028e-03,\n",
      "        8.54603887e-01,  1.02984667e+00, -2.28017664e+00, -1.35358274e+00,\n",
      "       -1.79103541e+00,  4.30181265e+00,  1.18015075e+00, -1.19642639e+00,\n",
      "       -2.65788889e+00, -1.57755566e+00,  7.67703533e-01, -1.03482270e+00,\n",
      "        1.68446743e+00,  5.81240177e-01, -1.79000294e+00,  1.02068102e+00,\n",
      "        3.94289970e+00,  1.41761410e+00,  1.60656556e-01, -7.08673775e-01,\n",
      "        1.00000000e+00]), array([ 3.55553091e-01,  1.31532991e+00, -5.43776512e-01,  2.49324751e+00,\n",
      "        3.04174900e+00, -3.02621651e+00, -7.34425604e-01,  2.78896272e-01,\n",
      "        3.52283150e-01,  1.44344413e+00, -8.06229949e-01, -5.83925009e-01,\n",
      "        6.21066093e-01, -1.05118573e+00,  8.35603297e-01,  4.00180995e-01,\n",
      "       -1.28851902e+00,  8.46201658e-01, -5.28531551e-01,  8.30040216e-01,\n",
      "       -1.13057756e+00, -1.23820865e+00, -1.34782064e+00,  8.41158509e-01,\n",
      "       -1.28062272e+00,  2.08898336e-01, -1.95007038e+00, -6.70083106e-01,\n",
      "        6.48224473e-01, -9.37087119e-01,  2.10556746e+00, -3.70274067e-01,\n",
      "        2.56791902e+00, -1.24837029e+00,  1.22563410e+00, -2.18630528e+00,\n",
      "        4.15721655e-01,  3.67577672e-01,  7.64593601e-01, -1.37893558e+00,\n",
      "        1.06899589e-01, -2.12456480e-01,  2.43348718e-01,  1.81733295e-01,\n",
      "       -9.80804563e-01,  3.89862448e-01, -3.43725729e+00,  1.52576901e-03,\n",
      "        1.15752971e+00,  7.42830217e-01, -2.22440168e-01,  6.64128125e-01,\n",
      "        1.53505176e-01, -2.69848585e-01, -2.10847402e+00,  1.60026217e+00,\n",
      "        4.13530445e+00, -4.79115009e-01, -2.54533529e+00, -9.16401088e-01,\n",
      "        4.56027120e-01, -4.00804192e-01,  1.63251853e+00,  7.48642921e-01,\n",
      "        2.70441389e+00,  5.54367065e-01, -2.25531697e-01,  2.21962738e+00,\n",
      "        4.45801973e-01, -2.21013689e+00, -2.03744173e+00, -9.41252351e-01,\n",
      "        1.24999130e+00,  7.82664716e-01,  9.33400095e-01, -3.27522028e-03,\n",
      "        8.54603887e-01,  1.02984667e+00, -2.28017664e+00, -1.35358274e+00,\n",
      "       -1.79103541e+00,  4.30181265e+00,  1.18015075e+00, -1.19642639e+00,\n",
      "       -2.65788889e+00, -1.57755566e+00,  7.67703533e-01, -1.03482270e+00,\n",
      "        1.68446743e+00,  5.81240177e-01, -1.79000294e+00,  1.02068102e+00,\n",
      "        3.94289970e+00,  1.41761410e+00,  1.60656556e-01, -7.08673775e-01,\n",
      "        1.00000000e+00])], 'Y': [-1.0, -1.0]}}\n",
      "0\n",
      "-1.0\n",
      "{0: {'X': [array([ 3.55553091e-01,  1.31532991e+00, -5.43776512e-01,  2.49324751e+00,\n",
      "        3.04174900e+00, -3.02621651e+00, -7.34425604e-01,  2.78896272e-01,\n",
      "        3.52283150e-01,  1.44344413e+00, -8.06229949e-01, -5.83925009e-01,\n",
      "        6.21066093e-01, -1.05118573e+00,  8.35603297e-01,  4.00180995e-01,\n",
      "       -1.28851902e+00,  8.46201658e-01, -5.28531551e-01,  8.30040216e-01,\n",
      "       -1.13057756e+00, -1.23820865e+00, -1.34782064e+00,  8.41158509e-01,\n",
      "       -1.28062272e+00,  2.08898336e-01, -1.95007038e+00, -6.70083106e-01,\n",
      "        6.48224473e-01, -9.37087119e-01,  2.10556746e+00, -3.70274067e-01,\n",
      "        2.56791902e+00, -1.24837029e+00,  1.22563410e+00, -2.18630528e+00,\n",
      "        4.15721655e-01,  3.67577672e-01,  7.64593601e-01, -1.37893558e+00,\n",
      "        1.06899589e-01, -2.12456480e-01,  2.43348718e-01,  1.81733295e-01,\n",
      "       -9.80804563e-01,  3.89862448e-01, -3.43725729e+00,  1.52576901e-03,\n",
      "        1.15752971e+00,  7.42830217e-01, -2.22440168e-01,  6.64128125e-01,\n",
      "        1.53505176e-01, -2.69848585e-01, -2.10847402e+00,  1.60026217e+00,\n",
      "        4.13530445e+00, -4.79115009e-01, -2.54533529e+00, -9.16401088e-01,\n",
      "        4.56027120e-01, -4.00804192e-01,  1.63251853e+00,  7.48642921e-01,\n",
      "        2.70441389e+00,  5.54367065e-01, -2.25531697e-01,  2.21962738e+00,\n",
      "        4.45801973e-01, -2.21013689e+00, -2.03744173e+00, -9.41252351e-01,\n",
      "        1.24999130e+00,  7.82664716e-01,  9.33400095e-01, -3.27522028e-03,\n",
      "        8.54603887e-01,  1.02984667e+00, -2.28017664e+00, -1.35358274e+00,\n",
      "       -1.79103541e+00,  4.30181265e+00,  1.18015075e+00, -1.19642639e+00,\n",
      "       -2.65788889e+00, -1.57755566e+00,  7.67703533e-01, -1.03482270e+00,\n",
      "        1.68446743e+00,  5.81240177e-01, -1.79000294e+00,  1.02068102e+00,\n",
      "        3.94289970e+00,  1.41761410e+00,  1.60656556e-01, -7.08673775e-01,\n",
      "        1.00000000e+00]), array([ 3.55553091e-01,  1.31532991e+00, -5.43776512e-01,  2.49324751e+00,\n",
      "        3.04174900e+00, -3.02621651e+00, -7.34425604e-01,  2.78896272e-01,\n",
      "        3.52283150e-01,  1.44344413e+00, -8.06229949e-01, -5.83925009e-01,\n",
      "        6.21066093e-01, -1.05118573e+00,  8.35603297e-01,  4.00180995e-01,\n",
      "       -1.28851902e+00,  8.46201658e-01, -5.28531551e-01,  8.30040216e-01,\n",
      "       -1.13057756e+00, -1.23820865e+00, -1.34782064e+00,  8.41158509e-01,\n",
      "       -1.28062272e+00,  2.08898336e-01, -1.95007038e+00, -6.70083106e-01,\n",
      "        6.48224473e-01, -9.37087119e-01,  2.10556746e+00, -3.70274067e-01,\n",
      "        2.56791902e+00, -1.24837029e+00,  1.22563410e+00, -2.18630528e+00,\n",
      "        4.15721655e-01,  3.67577672e-01,  7.64593601e-01, -1.37893558e+00,\n",
      "        1.06899589e-01, -2.12456480e-01,  2.43348718e-01,  1.81733295e-01,\n",
      "       -9.80804563e-01,  3.89862448e-01, -3.43725729e+00,  1.52576901e-03,\n",
      "        1.15752971e+00,  7.42830217e-01, -2.22440168e-01,  6.64128125e-01,\n",
      "        1.53505176e-01, -2.69848585e-01, -2.10847402e+00,  1.60026217e+00,\n",
      "        4.13530445e+00, -4.79115009e-01, -2.54533529e+00, -9.16401088e-01,\n",
      "        4.56027120e-01, -4.00804192e-01,  1.63251853e+00,  7.48642921e-01,\n",
      "        2.70441389e+00,  5.54367065e-01, -2.25531697e-01,  2.21962738e+00,\n",
      "        4.45801973e-01, -2.21013689e+00, -2.03744173e+00, -9.41252351e-01,\n",
      "        1.24999130e+00,  7.82664716e-01,  9.33400095e-01, -3.27522028e-03,\n",
      "        8.54603887e-01,  1.02984667e+00, -2.28017664e+00, -1.35358274e+00,\n",
      "       -1.79103541e+00,  4.30181265e+00,  1.18015075e+00, -1.19642639e+00,\n",
      "       -2.65788889e+00, -1.57755566e+00,  7.67703533e-01, -1.03482270e+00,\n",
      "        1.68446743e+00,  5.81240177e-01, -1.79000294e+00,  1.02068102e+00,\n",
      "        3.94289970e+00,  1.41761410e+00,  1.60656556e-01, -7.08673775e-01,\n",
      "        1.00000000e+00]), array([ 3.55553091e-01,  1.31532991e+00, -5.43776512e-01,  2.49324751e+00,\n",
      "        3.04174900e+00, -3.02621651e+00, -7.34425604e-01,  2.78896272e-01,\n",
      "        3.52283150e-01,  1.44344413e+00, -8.06229949e-01, -5.83925009e-01,\n",
      "        6.21066093e-01, -1.05118573e+00,  8.35603297e-01,  4.00180995e-01,\n",
      "       -1.28851902e+00,  8.46201658e-01, -5.28531551e-01,  8.30040216e-01,\n",
      "       -1.13057756e+00, -1.23820865e+00, -1.34782064e+00,  8.41158509e-01,\n",
      "       -1.28062272e+00,  2.08898336e-01, -1.95007038e+00, -6.70083106e-01,\n",
      "        6.48224473e-01, -9.37087119e-01,  2.10556746e+00, -3.70274067e-01,\n",
      "        2.56791902e+00, -1.24837029e+00,  1.22563410e+00, -2.18630528e+00,\n",
      "        4.15721655e-01,  3.67577672e-01,  7.64593601e-01, -1.37893558e+00,\n",
      "        1.06899589e-01, -2.12456480e-01,  2.43348718e-01,  1.81733295e-01,\n",
      "       -9.80804563e-01,  3.89862448e-01, -3.43725729e+00,  1.52576901e-03,\n",
      "        1.15752971e+00,  7.42830217e-01, -2.22440168e-01,  6.64128125e-01,\n",
      "        1.53505176e-01, -2.69848585e-01, -2.10847402e+00,  1.60026217e+00,\n",
      "        4.13530445e+00, -4.79115009e-01, -2.54533529e+00, -9.16401088e-01,\n",
      "        4.56027120e-01, -4.00804192e-01,  1.63251853e+00,  7.48642921e-01,\n",
      "        2.70441389e+00,  5.54367065e-01, -2.25531697e-01,  2.21962738e+00,\n",
      "        4.45801973e-01, -2.21013689e+00, -2.03744173e+00, -9.41252351e-01,\n",
      "        1.24999130e+00,  7.82664716e-01,  9.33400095e-01, -3.27522028e-03,\n",
      "        8.54603887e-01,  1.02984667e+00, -2.28017664e+00, -1.35358274e+00,\n",
      "       -1.79103541e+00,  4.30181265e+00,  1.18015075e+00, -1.19642639e+00,\n",
      "       -2.65788889e+00, -1.57755566e+00,  7.67703533e-01, -1.03482270e+00,\n",
      "        1.68446743e+00,  5.81240177e-01, -1.79000294e+00,  1.02068102e+00,\n",
      "        3.94289970e+00,  1.41761410e+00,  1.60656556e-01, -7.08673775e-01,\n",
      "        1.00000000e+00])], 'Y': [-1.0, -1.0, -1.0]}}\n",
      "0\n",
      "-1.0\n",
      "{0: {'X': [array([ 3.55553091e-01,  1.31532991e+00, -5.43776512e-01,  2.49324751e+00,\n",
      "        3.04174900e+00, -3.02621651e+00, -7.34425604e-01,  2.78896272e-01,\n",
      "        3.52283150e-01,  1.44344413e+00, -8.06229949e-01, -5.83925009e-01,\n",
      "        6.21066093e-01, -1.05118573e+00,  8.35603297e-01,  4.00180995e-01,\n",
      "       -1.28851902e+00,  8.46201658e-01, -5.28531551e-01,  8.30040216e-01,\n",
      "       -1.13057756e+00, -1.23820865e+00, -1.34782064e+00,  8.41158509e-01,\n",
      "       -1.28062272e+00,  2.08898336e-01, -1.95007038e+00, -6.70083106e-01,\n",
      "        6.48224473e-01, -9.37087119e-01,  2.10556746e+00, -3.70274067e-01,\n",
      "        2.56791902e+00, -1.24837029e+00,  1.22563410e+00, -2.18630528e+00,\n",
      "        4.15721655e-01,  3.67577672e-01,  7.64593601e-01, -1.37893558e+00,\n",
      "        1.06899589e-01, -2.12456480e-01,  2.43348718e-01,  1.81733295e-01,\n",
      "       -9.80804563e-01,  3.89862448e-01, -3.43725729e+00,  1.52576901e-03,\n",
      "        1.15752971e+00,  7.42830217e-01, -2.22440168e-01,  6.64128125e-01,\n",
      "        1.53505176e-01, -2.69848585e-01, -2.10847402e+00,  1.60026217e+00,\n",
      "        4.13530445e+00, -4.79115009e-01, -2.54533529e+00, -9.16401088e-01,\n",
      "        4.56027120e-01, -4.00804192e-01,  1.63251853e+00,  7.48642921e-01,\n",
      "        2.70441389e+00,  5.54367065e-01, -2.25531697e-01,  2.21962738e+00,\n",
      "        4.45801973e-01, -2.21013689e+00, -2.03744173e+00, -9.41252351e-01,\n",
      "        1.24999130e+00,  7.82664716e-01,  9.33400095e-01, -3.27522028e-03,\n",
      "        8.54603887e-01,  1.02984667e+00, -2.28017664e+00, -1.35358274e+00,\n",
      "       -1.79103541e+00,  4.30181265e+00,  1.18015075e+00, -1.19642639e+00,\n",
      "       -2.65788889e+00, -1.57755566e+00,  7.67703533e-01, -1.03482270e+00,\n",
      "        1.68446743e+00,  5.81240177e-01, -1.79000294e+00,  1.02068102e+00,\n",
      "        3.94289970e+00,  1.41761410e+00,  1.60656556e-01, -7.08673775e-01,\n",
      "        1.00000000e+00]), array([ 3.55553091e-01,  1.31532991e+00, -5.43776512e-01,  2.49324751e+00,\n",
      "        3.04174900e+00, -3.02621651e+00, -7.34425604e-01,  2.78896272e-01,\n",
      "        3.52283150e-01,  1.44344413e+00, -8.06229949e-01, -5.83925009e-01,\n",
      "        6.21066093e-01, -1.05118573e+00,  8.35603297e-01,  4.00180995e-01,\n",
      "       -1.28851902e+00,  8.46201658e-01, -5.28531551e-01,  8.30040216e-01,\n",
      "       -1.13057756e+00, -1.23820865e+00, -1.34782064e+00,  8.41158509e-01,\n",
      "       -1.28062272e+00,  2.08898336e-01, -1.95007038e+00, -6.70083106e-01,\n",
      "        6.48224473e-01, -9.37087119e-01,  2.10556746e+00, -3.70274067e-01,\n",
      "        2.56791902e+00, -1.24837029e+00,  1.22563410e+00, -2.18630528e+00,\n",
      "        4.15721655e-01,  3.67577672e-01,  7.64593601e-01, -1.37893558e+00,\n",
      "        1.06899589e-01, -2.12456480e-01,  2.43348718e-01,  1.81733295e-01,\n",
      "       -9.80804563e-01,  3.89862448e-01, -3.43725729e+00,  1.52576901e-03,\n",
      "        1.15752971e+00,  7.42830217e-01, -2.22440168e-01,  6.64128125e-01,\n",
      "        1.53505176e-01, -2.69848585e-01, -2.10847402e+00,  1.60026217e+00,\n",
      "        4.13530445e+00, -4.79115009e-01, -2.54533529e+00, -9.16401088e-01,\n",
      "        4.56027120e-01, -4.00804192e-01,  1.63251853e+00,  7.48642921e-01,\n",
      "        2.70441389e+00,  5.54367065e-01, -2.25531697e-01,  2.21962738e+00,\n",
      "        4.45801973e-01, -2.21013689e+00, -2.03744173e+00, -9.41252351e-01,\n",
      "        1.24999130e+00,  7.82664716e-01,  9.33400095e-01, -3.27522028e-03,\n",
      "        8.54603887e-01,  1.02984667e+00, -2.28017664e+00, -1.35358274e+00,\n",
      "       -1.79103541e+00,  4.30181265e+00,  1.18015075e+00, -1.19642639e+00,\n",
      "       -2.65788889e+00, -1.57755566e+00,  7.67703533e-01, -1.03482270e+00,\n",
      "        1.68446743e+00,  5.81240177e-01, -1.79000294e+00,  1.02068102e+00,\n",
      "        3.94289970e+00,  1.41761410e+00,  1.60656556e-01, -7.08673775e-01,\n",
      "        1.00000000e+00]), array([ 3.55553091e-01,  1.31532991e+00, -5.43776512e-01,  2.49324751e+00,\n",
      "        3.04174900e+00, -3.02621651e+00, -7.34425604e-01,  2.78896272e-01,\n",
      "        3.52283150e-01,  1.44344413e+00, -8.06229949e-01, -5.83925009e-01,\n",
      "        6.21066093e-01, -1.05118573e+00,  8.35603297e-01,  4.00180995e-01,\n",
      "       -1.28851902e+00,  8.46201658e-01, -5.28531551e-01,  8.30040216e-01,\n",
      "       -1.13057756e+00, -1.23820865e+00, -1.34782064e+00,  8.41158509e-01,\n",
      "       -1.28062272e+00,  2.08898336e-01, -1.95007038e+00, -6.70083106e-01,\n",
      "        6.48224473e-01, -9.37087119e-01,  2.10556746e+00, -3.70274067e-01,\n",
      "        2.56791902e+00, -1.24837029e+00,  1.22563410e+00, -2.18630528e+00,\n",
      "        4.15721655e-01,  3.67577672e-01,  7.64593601e-01, -1.37893558e+00,\n",
      "        1.06899589e-01, -2.12456480e-01,  2.43348718e-01,  1.81733295e-01,\n",
      "       -9.80804563e-01,  3.89862448e-01, -3.43725729e+00,  1.52576901e-03,\n",
      "        1.15752971e+00,  7.42830217e-01, -2.22440168e-01,  6.64128125e-01,\n",
      "        1.53505176e-01, -2.69848585e-01, -2.10847402e+00,  1.60026217e+00,\n",
      "        4.13530445e+00, -4.79115009e-01, -2.54533529e+00, -9.16401088e-01,\n",
      "        4.56027120e-01, -4.00804192e-01,  1.63251853e+00,  7.48642921e-01,\n",
      "        2.70441389e+00,  5.54367065e-01, -2.25531697e-01,  2.21962738e+00,\n",
      "        4.45801973e-01, -2.21013689e+00, -2.03744173e+00, -9.41252351e-01,\n",
      "        1.24999130e+00,  7.82664716e-01,  9.33400095e-01, -3.27522028e-03,\n",
      "        8.54603887e-01,  1.02984667e+00, -2.28017664e+00, -1.35358274e+00,\n",
      "       -1.79103541e+00,  4.30181265e+00,  1.18015075e+00, -1.19642639e+00,\n",
      "       -2.65788889e+00, -1.57755566e+00,  7.67703533e-01, -1.03482270e+00,\n",
      "        1.68446743e+00,  5.81240177e-01, -1.79000294e+00,  1.02068102e+00,\n",
      "        3.94289970e+00,  1.41761410e+00,  1.60656556e-01, -7.08673775e-01,\n",
      "        1.00000000e+00]), array([ 3.55553091e-01,  1.31532991e+00, -5.43776512e-01,  2.49324751e+00,\n",
      "        3.04174900e+00, -3.02621651e+00, -7.34425604e-01,  2.78896272e-01,\n",
      "        3.52283150e-01,  1.44344413e+00, -8.06229949e-01, -5.83925009e-01,\n",
      "        6.21066093e-01, -1.05118573e+00,  8.35603297e-01,  4.00180995e-01,\n",
      "       -1.28851902e+00,  8.46201658e-01, -5.28531551e-01,  8.30040216e-01,\n",
      "       -1.13057756e+00, -1.23820865e+00, -1.34782064e+00,  8.41158509e-01,\n",
      "       -1.28062272e+00,  2.08898336e-01, -1.95007038e+00, -6.70083106e-01,\n",
      "        6.48224473e-01, -9.37087119e-01,  2.10556746e+00, -3.70274067e-01,\n",
      "        2.56791902e+00, -1.24837029e+00,  1.22563410e+00, -2.18630528e+00,\n",
      "        4.15721655e-01,  3.67577672e-01,  7.64593601e-01, -1.37893558e+00,\n",
      "        1.06899589e-01, -2.12456480e-01,  2.43348718e-01,  1.81733295e-01,\n",
      "       -9.80804563e-01,  3.89862448e-01, -3.43725729e+00,  1.52576901e-03,\n",
      "        1.15752971e+00,  7.42830217e-01, -2.22440168e-01,  6.64128125e-01,\n",
      "        1.53505176e-01, -2.69848585e-01, -2.10847402e+00,  1.60026217e+00,\n",
      "        4.13530445e+00, -4.79115009e-01, -2.54533529e+00, -9.16401088e-01,\n",
      "        4.56027120e-01, -4.00804192e-01,  1.63251853e+00,  7.48642921e-01,\n",
      "        2.70441389e+00,  5.54367065e-01, -2.25531697e-01,  2.21962738e+00,\n",
      "        4.45801973e-01, -2.21013689e+00, -2.03744173e+00, -9.41252351e-01,\n",
      "        1.24999130e+00,  7.82664716e-01,  9.33400095e-01, -3.27522028e-03,\n",
      "        8.54603887e-01,  1.02984667e+00, -2.28017664e+00, -1.35358274e+00,\n",
      "       -1.79103541e+00,  4.30181265e+00,  1.18015075e+00, -1.19642639e+00,\n",
      "       -2.65788889e+00, -1.57755566e+00,  7.67703533e-01, -1.03482270e+00,\n",
      "        1.68446743e+00,  5.81240177e-01, -1.79000294e+00,  1.02068102e+00,\n",
      "        3.94289970e+00,  1.41761410e+00,  1.60656556e-01, -7.08673775e-01,\n",
      "        1.00000000e+00])], 'Y': [-1.0, -1.0, -1.0, -1.0]}}\n",
      "0\n",
      "1.0\n",
      "{0: {'X': [array([ 3.55553091e-01,  1.31532991e+00, -5.43776512e-01,  2.49324751e+00,\n",
      "        3.04174900e+00, -3.02621651e+00, -7.34425604e-01,  2.78896272e-01,\n",
      "        3.52283150e-01,  1.44344413e+00, -8.06229949e-01, -5.83925009e-01,\n",
      "        6.21066093e-01, -1.05118573e+00,  8.35603297e-01,  4.00180995e-01,\n",
      "       -1.28851902e+00,  8.46201658e-01, -5.28531551e-01,  8.30040216e-01,\n",
      "       -1.13057756e+00, -1.23820865e+00, -1.34782064e+00,  8.41158509e-01,\n",
      "       -1.28062272e+00,  2.08898336e-01, -1.95007038e+00, -6.70083106e-01,\n",
      "        6.48224473e-01, -9.37087119e-01,  2.10556746e+00, -3.70274067e-01,\n",
      "        2.56791902e+00, -1.24837029e+00,  1.22563410e+00, -2.18630528e+00,\n",
      "        4.15721655e-01,  3.67577672e-01,  7.64593601e-01, -1.37893558e+00,\n",
      "        1.06899589e-01, -2.12456480e-01,  2.43348718e-01,  1.81733295e-01,\n",
      "       -9.80804563e-01,  3.89862448e-01, -3.43725729e+00,  1.52576901e-03,\n",
      "        1.15752971e+00,  7.42830217e-01, -2.22440168e-01,  6.64128125e-01,\n",
      "        1.53505176e-01, -2.69848585e-01, -2.10847402e+00,  1.60026217e+00,\n",
      "        4.13530445e+00, -4.79115009e-01, -2.54533529e+00, -9.16401088e-01,\n",
      "        4.56027120e-01, -4.00804192e-01,  1.63251853e+00,  7.48642921e-01,\n",
      "        2.70441389e+00,  5.54367065e-01, -2.25531697e-01,  2.21962738e+00,\n",
      "        4.45801973e-01, -2.21013689e+00, -2.03744173e+00, -9.41252351e-01,\n",
      "        1.24999130e+00,  7.82664716e-01,  9.33400095e-01, -3.27522028e-03,\n",
      "        8.54603887e-01,  1.02984667e+00, -2.28017664e+00, -1.35358274e+00,\n",
      "       -1.79103541e+00,  4.30181265e+00,  1.18015075e+00, -1.19642639e+00,\n",
      "       -2.65788889e+00, -1.57755566e+00,  7.67703533e-01, -1.03482270e+00,\n",
      "        1.68446743e+00,  5.81240177e-01, -1.79000294e+00,  1.02068102e+00,\n",
      "        3.94289970e+00,  1.41761410e+00,  1.60656556e-01, -7.08673775e-01,\n",
      "        1.00000000e+00]), array([ 3.55553091e-01,  1.31532991e+00, -5.43776512e-01,  2.49324751e+00,\n",
      "        3.04174900e+00, -3.02621651e+00, -7.34425604e-01,  2.78896272e-01,\n",
      "        3.52283150e-01,  1.44344413e+00, -8.06229949e-01, -5.83925009e-01,\n",
      "        6.21066093e-01, -1.05118573e+00,  8.35603297e-01,  4.00180995e-01,\n",
      "       -1.28851902e+00,  8.46201658e-01, -5.28531551e-01,  8.30040216e-01,\n",
      "       -1.13057756e+00, -1.23820865e+00, -1.34782064e+00,  8.41158509e-01,\n",
      "       -1.28062272e+00,  2.08898336e-01, -1.95007038e+00, -6.70083106e-01,\n",
      "        6.48224473e-01, -9.37087119e-01,  2.10556746e+00, -3.70274067e-01,\n",
      "        2.56791902e+00, -1.24837029e+00,  1.22563410e+00, -2.18630528e+00,\n",
      "        4.15721655e-01,  3.67577672e-01,  7.64593601e-01, -1.37893558e+00,\n",
      "        1.06899589e-01, -2.12456480e-01,  2.43348718e-01,  1.81733295e-01,\n",
      "       -9.80804563e-01,  3.89862448e-01, -3.43725729e+00,  1.52576901e-03,\n",
      "        1.15752971e+00,  7.42830217e-01, -2.22440168e-01,  6.64128125e-01,\n",
      "        1.53505176e-01, -2.69848585e-01, -2.10847402e+00,  1.60026217e+00,\n",
      "        4.13530445e+00, -4.79115009e-01, -2.54533529e+00, -9.16401088e-01,\n",
      "        4.56027120e-01, -4.00804192e-01,  1.63251853e+00,  7.48642921e-01,\n",
      "        2.70441389e+00,  5.54367065e-01, -2.25531697e-01,  2.21962738e+00,\n",
      "        4.45801973e-01, -2.21013689e+00, -2.03744173e+00, -9.41252351e-01,\n",
      "        1.24999130e+00,  7.82664716e-01,  9.33400095e-01, -3.27522028e-03,\n",
      "        8.54603887e-01,  1.02984667e+00, -2.28017664e+00, -1.35358274e+00,\n",
      "       -1.79103541e+00,  4.30181265e+00,  1.18015075e+00, -1.19642639e+00,\n",
      "       -2.65788889e+00, -1.57755566e+00,  7.67703533e-01, -1.03482270e+00,\n",
      "        1.68446743e+00,  5.81240177e-01, -1.79000294e+00,  1.02068102e+00,\n",
      "        3.94289970e+00,  1.41761410e+00,  1.60656556e-01, -7.08673775e-01,\n",
      "        1.00000000e+00]), array([ 3.55553091e-01,  1.31532991e+00, -5.43776512e-01,  2.49324751e+00,\n",
      "        3.04174900e+00, -3.02621651e+00, -7.34425604e-01,  2.78896272e-01,\n",
      "        3.52283150e-01,  1.44344413e+00, -8.06229949e-01, -5.83925009e-01,\n",
      "        6.21066093e-01, -1.05118573e+00,  8.35603297e-01,  4.00180995e-01,\n",
      "       -1.28851902e+00,  8.46201658e-01, -5.28531551e-01,  8.30040216e-01,\n",
      "       -1.13057756e+00, -1.23820865e+00, -1.34782064e+00,  8.41158509e-01,\n",
      "       -1.28062272e+00,  2.08898336e-01, -1.95007038e+00, -6.70083106e-01,\n",
      "        6.48224473e-01, -9.37087119e-01,  2.10556746e+00, -3.70274067e-01,\n",
      "        2.56791902e+00, -1.24837029e+00,  1.22563410e+00, -2.18630528e+00,\n",
      "        4.15721655e-01,  3.67577672e-01,  7.64593601e-01, -1.37893558e+00,\n",
      "        1.06899589e-01, -2.12456480e-01,  2.43348718e-01,  1.81733295e-01,\n",
      "       -9.80804563e-01,  3.89862448e-01, -3.43725729e+00,  1.52576901e-03,\n",
      "        1.15752971e+00,  7.42830217e-01, -2.22440168e-01,  6.64128125e-01,\n",
      "        1.53505176e-01, -2.69848585e-01, -2.10847402e+00,  1.60026217e+00,\n",
      "        4.13530445e+00, -4.79115009e-01, -2.54533529e+00, -9.16401088e-01,\n",
      "        4.56027120e-01, -4.00804192e-01,  1.63251853e+00,  7.48642921e-01,\n",
      "        2.70441389e+00,  5.54367065e-01, -2.25531697e-01,  2.21962738e+00,\n",
      "        4.45801973e-01, -2.21013689e+00, -2.03744173e+00, -9.41252351e-01,\n",
      "        1.24999130e+00,  7.82664716e-01,  9.33400095e-01, -3.27522028e-03,\n",
      "        8.54603887e-01,  1.02984667e+00, -2.28017664e+00, -1.35358274e+00,\n",
      "       -1.79103541e+00,  4.30181265e+00,  1.18015075e+00, -1.19642639e+00,\n",
      "       -2.65788889e+00, -1.57755566e+00,  7.67703533e-01, -1.03482270e+00,\n",
      "        1.68446743e+00,  5.81240177e-01, -1.79000294e+00,  1.02068102e+00,\n",
      "        3.94289970e+00,  1.41761410e+00,  1.60656556e-01, -7.08673775e-01,\n",
      "        1.00000000e+00]), array([ 3.55553091e-01,  1.31532991e+00, -5.43776512e-01,  2.49324751e+00,\n",
      "        3.04174900e+00, -3.02621651e+00, -7.34425604e-01,  2.78896272e-01,\n",
      "        3.52283150e-01,  1.44344413e+00, -8.06229949e-01, -5.83925009e-01,\n",
      "        6.21066093e-01, -1.05118573e+00,  8.35603297e-01,  4.00180995e-01,\n",
      "       -1.28851902e+00,  8.46201658e-01, -5.28531551e-01,  8.30040216e-01,\n",
      "       -1.13057756e+00, -1.23820865e+00, -1.34782064e+00,  8.41158509e-01,\n",
      "       -1.28062272e+00,  2.08898336e-01, -1.95007038e+00, -6.70083106e-01,\n",
      "        6.48224473e-01, -9.37087119e-01,  2.10556746e+00, -3.70274067e-01,\n",
      "        2.56791902e+00, -1.24837029e+00,  1.22563410e+00, -2.18630528e+00,\n",
      "        4.15721655e-01,  3.67577672e-01,  7.64593601e-01, -1.37893558e+00,\n",
      "        1.06899589e-01, -2.12456480e-01,  2.43348718e-01,  1.81733295e-01,\n",
      "       -9.80804563e-01,  3.89862448e-01, -3.43725729e+00,  1.52576901e-03,\n",
      "        1.15752971e+00,  7.42830217e-01, -2.22440168e-01,  6.64128125e-01,\n",
      "        1.53505176e-01, -2.69848585e-01, -2.10847402e+00,  1.60026217e+00,\n",
      "        4.13530445e+00, -4.79115009e-01, -2.54533529e+00, -9.16401088e-01,\n",
      "        4.56027120e-01, -4.00804192e-01,  1.63251853e+00,  7.48642921e-01,\n",
      "        2.70441389e+00,  5.54367065e-01, -2.25531697e-01,  2.21962738e+00,\n",
      "        4.45801973e-01, -2.21013689e+00, -2.03744173e+00, -9.41252351e-01,\n",
      "        1.24999130e+00,  7.82664716e-01,  9.33400095e-01, -3.27522028e-03,\n",
      "        8.54603887e-01,  1.02984667e+00, -2.28017664e+00, -1.35358274e+00,\n",
      "       -1.79103541e+00,  4.30181265e+00,  1.18015075e+00, -1.19642639e+00,\n",
      "       -2.65788889e+00, -1.57755566e+00,  7.67703533e-01, -1.03482270e+00,\n",
      "        1.68446743e+00,  5.81240177e-01, -1.79000294e+00,  1.02068102e+00,\n",
      "        3.94289970e+00,  1.41761410e+00,  1.60656556e-01, -7.08673775e-01,\n",
      "        1.00000000e+00]), array([ 3.55553091e-01,  1.31532991e+00, -5.43776512e-01,  2.49324751e+00,\n",
      "        3.04174900e+00, -3.02621651e+00, -7.34425604e-01,  2.78896272e-01,\n",
      "        3.52283150e-01,  1.44344413e+00, -8.06229949e-01, -5.83925009e-01,\n",
      "        6.21066093e-01, -1.05118573e+00,  8.35603297e-01,  4.00180995e-01,\n",
      "       -1.28851902e+00,  8.46201658e-01, -5.28531551e-01,  8.30040216e-01,\n",
      "       -1.13057756e+00, -1.23820865e+00, -1.34782064e+00,  8.41158509e-01,\n",
      "       -1.28062272e+00,  2.08898336e-01, -1.95007038e+00, -6.70083106e-01,\n",
      "        6.48224473e-01, -9.37087119e-01,  2.10556746e+00, -3.70274067e-01,\n",
      "        2.56791902e+00, -1.24837029e+00,  1.22563410e+00, -2.18630528e+00,\n",
      "        4.15721655e-01,  3.67577672e-01,  7.64593601e-01, -1.37893558e+00,\n",
      "        1.06899589e-01, -2.12456480e-01,  2.43348718e-01,  1.81733295e-01,\n",
      "       -9.80804563e-01,  3.89862448e-01, -3.43725729e+00,  1.52576901e-03,\n",
      "        1.15752971e+00,  7.42830217e-01, -2.22440168e-01,  6.64128125e-01,\n",
      "        1.53505176e-01, -2.69848585e-01, -2.10847402e+00,  1.60026217e+00,\n",
      "        4.13530445e+00, -4.79115009e-01, -2.54533529e+00, -9.16401088e-01,\n",
      "        4.56027120e-01, -4.00804192e-01,  1.63251853e+00,  7.48642921e-01,\n",
      "        2.70441389e+00,  5.54367065e-01, -2.25531697e-01,  2.21962738e+00,\n",
      "        4.45801973e-01, -2.21013689e+00, -2.03744173e+00, -9.41252351e-01,\n",
      "        1.24999130e+00,  7.82664716e-01,  9.33400095e-01, -3.27522028e-03,\n",
      "        8.54603887e-01,  1.02984667e+00, -2.28017664e+00, -1.35358274e+00,\n",
      "       -1.79103541e+00,  4.30181265e+00,  1.18015075e+00, -1.19642639e+00,\n",
      "       -2.65788889e+00, -1.57755566e+00,  7.67703533e-01, -1.03482270e+00,\n",
      "        1.68446743e+00,  5.81240177e-01, -1.79000294e+00,  1.02068102e+00,\n",
      "        3.94289970e+00,  1.41761410e+00,  1.60656556e-01, -7.08673775e-01,\n",
      "        1.00000000e+00])], 'Y': [-1.0, -1.0, -1.0, -1.0, -1.0]}}\n"
     ]
    }
   ],
   "source": [
    "modified_playlists ={}\n",
    "total_stream = len(rewards[i].nonzero())\n",
    "nb_display = 0\n",
    "for p, r in zip(recos[1], rewards[1]):\n",
    "    print(p)\n",
    "    print(r)\n",
    "    nb_display +=1\n",
    "    print(modified_playlists)\n",
    "    if p not in modified_playlists:\n",
    "        modified_playlists[p] = {\"X\" : [], \"Y\" : []}\n",
    "    modified_playlists[p][\"X\"].append(user_features[user_ids[i]])   # i번째 유저의 feature\n",
    "    modified_playlists[p][\"Y\"].append(r)\n",
    "    if ((total_stream == 0 and nb_display == l_init) or (r == 1)):\n",
    "        break"
   ]
  },
  {
   "cell_type": "code",
   "execution_count": 213,
   "metadata": {},
   "outputs": [
    {
     "name": "stdout",
     "output_type": "stream",
     "text": [
      "0\n",
      "{'X': [array([ 3.55553091e-01,  1.31532991e+00, -5.43776512e-01,  2.49324751e+00,\n",
      "        3.04174900e+00, -3.02621651e+00, -7.34425604e-01,  2.78896272e-01,\n",
      "        3.52283150e-01,  1.44344413e+00, -8.06229949e-01, -5.83925009e-01,\n",
      "        6.21066093e-01, -1.05118573e+00,  8.35603297e-01,  4.00180995e-01,\n",
      "       -1.28851902e+00,  8.46201658e-01, -5.28531551e-01,  8.30040216e-01,\n",
      "       -1.13057756e+00, -1.23820865e+00, -1.34782064e+00,  8.41158509e-01,\n",
      "       -1.28062272e+00,  2.08898336e-01, -1.95007038e+00, -6.70083106e-01,\n",
      "        6.48224473e-01, -9.37087119e-01,  2.10556746e+00, -3.70274067e-01,\n",
      "        2.56791902e+00, -1.24837029e+00,  1.22563410e+00, -2.18630528e+00,\n",
      "        4.15721655e-01,  3.67577672e-01,  7.64593601e-01, -1.37893558e+00,\n",
      "        1.06899589e-01, -2.12456480e-01,  2.43348718e-01,  1.81733295e-01,\n",
      "       -9.80804563e-01,  3.89862448e-01, -3.43725729e+00,  1.52576901e-03,\n",
      "        1.15752971e+00,  7.42830217e-01, -2.22440168e-01,  6.64128125e-01,\n",
      "        1.53505176e-01, -2.69848585e-01, -2.10847402e+00,  1.60026217e+00,\n",
      "        4.13530445e+00, -4.79115009e-01, -2.54533529e+00, -9.16401088e-01,\n",
      "        4.56027120e-01, -4.00804192e-01,  1.63251853e+00,  7.48642921e-01,\n",
      "        2.70441389e+00,  5.54367065e-01, -2.25531697e-01,  2.21962738e+00,\n",
      "        4.45801973e-01, -2.21013689e+00, -2.03744173e+00, -9.41252351e-01,\n",
      "        1.24999130e+00,  7.82664716e-01,  9.33400095e-01, -3.27522028e-03,\n",
      "        8.54603887e-01,  1.02984667e+00, -2.28017664e+00, -1.35358274e+00,\n",
      "       -1.79103541e+00,  4.30181265e+00,  1.18015075e+00, -1.19642639e+00,\n",
      "       -2.65788889e+00, -1.57755566e+00,  7.67703533e-01, -1.03482270e+00,\n",
      "        1.68446743e+00,  5.81240177e-01, -1.79000294e+00,  1.02068102e+00,\n",
      "        3.94289970e+00,  1.41761410e+00,  1.60656556e-01, -7.08673775e-01,\n",
      "        1.00000000e+00]), array([ 3.55553091e-01,  1.31532991e+00, -5.43776512e-01,  2.49324751e+00,\n",
      "        3.04174900e+00, -3.02621651e+00, -7.34425604e-01,  2.78896272e-01,\n",
      "        3.52283150e-01,  1.44344413e+00, -8.06229949e-01, -5.83925009e-01,\n",
      "        6.21066093e-01, -1.05118573e+00,  8.35603297e-01,  4.00180995e-01,\n",
      "       -1.28851902e+00,  8.46201658e-01, -5.28531551e-01,  8.30040216e-01,\n",
      "       -1.13057756e+00, -1.23820865e+00, -1.34782064e+00,  8.41158509e-01,\n",
      "       -1.28062272e+00,  2.08898336e-01, -1.95007038e+00, -6.70083106e-01,\n",
      "        6.48224473e-01, -9.37087119e-01,  2.10556746e+00, -3.70274067e-01,\n",
      "        2.56791902e+00, -1.24837029e+00,  1.22563410e+00, -2.18630528e+00,\n",
      "        4.15721655e-01,  3.67577672e-01,  7.64593601e-01, -1.37893558e+00,\n",
      "        1.06899589e-01, -2.12456480e-01,  2.43348718e-01,  1.81733295e-01,\n",
      "       -9.80804563e-01,  3.89862448e-01, -3.43725729e+00,  1.52576901e-03,\n",
      "        1.15752971e+00,  7.42830217e-01, -2.22440168e-01,  6.64128125e-01,\n",
      "        1.53505176e-01, -2.69848585e-01, -2.10847402e+00,  1.60026217e+00,\n",
      "        4.13530445e+00, -4.79115009e-01, -2.54533529e+00, -9.16401088e-01,\n",
      "        4.56027120e-01, -4.00804192e-01,  1.63251853e+00,  7.48642921e-01,\n",
      "        2.70441389e+00,  5.54367065e-01, -2.25531697e-01,  2.21962738e+00,\n",
      "        4.45801973e-01, -2.21013689e+00, -2.03744173e+00, -9.41252351e-01,\n",
      "        1.24999130e+00,  7.82664716e-01,  9.33400095e-01, -3.27522028e-03,\n",
      "        8.54603887e-01,  1.02984667e+00, -2.28017664e+00, -1.35358274e+00,\n",
      "       -1.79103541e+00,  4.30181265e+00,  1.18015075e+00, -1.19642639e+00,\n",
      "       -2.65788889e+00, -1.57755566e+00,  7.67703533e-01, -1.03482270e+00,\n",
      "        1.68446743e+00,  5.81240177e-01, -1.79000294e+00,  1.02068102e+00,\n",
      "        3.94289970e+00,  1.41761410e+00,  1.60656556e-01, -7.08673775e-01,\n",
      "        1.00000000e+00]), array([ 3.55553091e-01,  1.31532991e+00, -5.43776512e-01,  2.49324751e+00,\n",
      "        3.04174900e+00, -3.02621651e+00, -7.34425604e-01,  2.78896272e-01,\n",
      "        3.52283150e-01,  1.44344413e+00, -8.06229949e-01, -5.83925009e-01,\n",
      "        6.21066093e-01, -1.05118573e+00,  8.35603297e-01,  4.00180995e-01,\n",
      "       -1.28851902e+00,  8.46201658e-01, -5.28531551e-01,  8.30040216e-01,\n",
      "       -1.13057756e+00, -1.23820865e+00, -1.34782064e+00,  8.41158509e-01,\n",
      "       -1.28062272e+00,  2.08898336e-01, -1.95007038e+00, -6.70083106e-01,\n",
      "        6.48224473e-01, -9.37087119e-01,  2.10556746e+00, -3.70274067e-01,\n",
      "        2.56791902e+00, -1.24837029e+00,  1.22563410e+00, -2.18630528e+00,\n",
      "        4.15721655e-01,  3.67577672e-01,  7.64593601e-01, -1.37893558e+00,\n",
      "        1.06899589e-01, -2.12456480e-01,  2.43348718e-01,  1.81733295e-01,\n",
      "       -9.80804563e-01,  3.89862448e-01, -3.43725729e+00,  1.52576901e-03,\n",
      "        1.15752971e+00,  7.42830217e-01, -2.22440168e-01,  6.64128125e-01,\n",
      "        1.53505176e-01, -2.69848585e-01, -2.10847402e+00,  1.60026217e+00,\n",
      "        4.13530445e+00, -4.79115009e-01, -2.54533529e+00, -9.16401088e-01,\n",
      "        4.56027120e-01, -4.00804192e-01,  1.63251853e+00,  7.48642921e-01,\n",
      "        2.70441389e+00,  5.54367065e-01, -2.25531697e-01,  2.21962738e+00,\n",
      "        4.45801973e-01, -2.21013689e+00, -2.03744173e+00, -9.41252351e-01,\n",
      "        1.24999130e+00,  7.82664716e-01,  9.33400095e-01, -3.27522028e-03,\n",
      "        8.54603887e-01,  1.02984667e+00, -2.28017664e+00, -1.35358274e+00,\n",
      "       -1.79103541e+00,  4.30181265e+00,  1.18015075e+00, -1.19642639e+00,\n",
      "       -2.65788889e+00, -1.57755566e+00,  7.67703533e-01, -1.03482270e+00,\n",
      "        1.68446743e+00,  5.81240177e-01, -1.79000294e+00,  1.02068102e+00,\n",
      "        3.94289970e+00,  1.41761410e+00,  1.60656556e-01, -7.08673775e-01,\n",
      "        1.00000000e+00]), array([ 3.55553091e-01,  1.31532991e+00, -5.43776512e-01,  2.49324751e+00,\n",
      "        3.04174900e+00, -3.02621651e+00, -7.34425604e-01,  2.78896272e-01,\n",
      "        3.52283150e-01,  1.44344413e+00, -8.06229949e-01, -5.83925009e-01,\n",
      "        6.21066093e-01, -1.05118573e+00,  8.35603297e-01,  4.00180995e-01,\n",
      "       -1.28851902e+00,  8.46201658e-01, -5.28531551e-01,  8.30040216e-01,\n",
      "       -1.13057756e+00, -1.23820865e+00, -1.34782064e+00,  8.41158509e-01,\n",
      "       -1.28062272e+00,  2.08898336e-01, -1.95007038e+00, -6.70083106e-01,\n",
      "        6.48224473e-01, -9.37087119e-01,  2.10556746e+00, -3.70274067e-01,\n",
      "        2.56791902e+00, -1.24837029e+00,  1.22563410e+00, -2.18630528e+00,\n",
      "        4.15721655e-01,  3.67577672e-01,  7.64593601e-01, -1.37893558e+00,\n",
      "        1.06899589e-01, -2.12456480e-01,  2.43348718e-01,  1.81733295e-01,\n",
      "       -9.80804563e-01,  3.89862448e-01, -3.43725729e+00,  1.52576901e-03,\n",
      "        1.15752971e+00,  7.42830217e-01, -2.22440168e-01,  6.64128125e-01,\n",
      "        1.53505176e-01, -2.69848585e-01, -2.10847402e+00,  1.60026217e+00,\n",
      "        4.13530445e+00, -4.79115009e-01, -2.54533529e+00, -9.16401088e-01,\n",
      "        4.56027120e-01, -4.00804192e-01,  1.63251853e+00,  7.48642921e-01,\n",
      "        2.70441389e+00,  5.54367065e-01, -2.25531697e-01,  2.21962738e+00,\n",
      "        4.45801973e-01, -2.21013689e+00, -2.03744173e+00, -9.41252351e-01,\n",
      "        1.24999130e+00,  7.82664716e-01,  9.33400095e-01, -3.27522028e-03,\n",
      "        8.54603887e-01,  1.02984667e+00, -2.28017664e+00, -1.35358274e+00,\n",
      "       -1.79103541e+00,  4.30181265e+00,  1.18015075e+00, -1.19642639e+00,\n",
      "       -2.65788889e+00, -1.57755566e+00,  7.67703533e-01, -1.03482270e+00,\n",
      "        1.68446743e+00,  5.81240177e-01, -1.79000294e+00,  1.02068102e+00,\n",
      "        3.94289970e+00,  1.41761410e+00,  1.60656556e-01, -7.08673775e-01,\n",
      "        1.00000000e+00]), array([ 3.55553091e-01,  1.31532991e+00, -5.43776512e-01,  2.49324751e+00,\n",
      "        3.04174900e+00, -3.02621651e+00, -7.34425604e-01,  2.78896272e-01,\n",
      "        3.52283150e-01,  1.44344413e+00, -8.06229949e-01, -5.83925009e-01,\n",
      "        6.21066093e-01, -1.05118573e+00,  8.35603297e-01,  4.00180995e-01,\n",
      "       -1.28851902e+00,  8.46201658e-01, -5.28531551e-01,  8.30040216e-01,\n",
      "       -1.13057756e+00, -1.23820865e+00, -1.34782064e+00,  8.41158509e-01,\n",
      "       -1.28062272e+00,  2.08898336e-01, -1.95007038e+00, -6.70083106e-01,\n",
      "        6.48224473e-01, -9.37087119e-01,  2.10556746e+00, -3.70274067e-01,\n",
      "        2.56791902e+00, -1.24837029e+00,  1.22563410e+00, -2.18630528e+00,\n",
      "        4.15721655e-01,  3.67577672e-01,  7.64593601e-01, -1.37893558e+00,\n",
      "        1.06899589e-01, -2.12456480e-01,  2.43348718e-01,  1.81733295e-01,\n",
      "       -9.80804563e-01,  3.89862448e-01, -3.43725729e+00,  1.52576901e-03,\n",
      "        1.15752971e+00,  7.42830217e-01, -2.22440168e-01,  6.64128125e-01,\n",
      "        1.53505176e-01, -2.69848585e-01, -2.10847402e+00,  1.60026217e+00,\n",
      "        4.13530445e+00, -4.79115009e-01, -2.54533529e+00, -9.16401088e-01,\n",
      "        4.56027120e-01, -4.00804192e-01,  1.63251853e+00,  7.48642921e-01,\n",
      "        2.70441389e+00,  5.54367065e-01, -2.25531697e-01,  2.21962738e+00,\n",
      "        4.45801973e-01, -2.21013689e+00, -2.03744173e+00, -9.41252351e-01,\n",
      "        1.24999130e+00,  7.82664716e-01,  9.33400095e-01, -3.27522028e-03,\n",
      "        8.54603887e-01,  1.02984667e+00, -2.28017664e+00, -1.35358274e+00,\n",
      "       -1.79103541e+00,  4.30181265e+00,  1.18015075e+00, -1.19642639e+00,\n",
      "       -2.65788889e+00, -1.57755566e+00,  7.67703533e-01, -1.03482270e+00,\n",
      "        1.68446743e+00,  5.81240177e-01, -1.79000294e+00,  1.02068102e+00,\n",
      "        3.94289970e+00,  1.41761410e+00,  1.60656556e-01, -7.08673775e-01,\n",
      "        1.00000000e+00]), array([ 3.55553091e-01,  1.31532991e+00, -5.43776512e-01,  2.49324751e+00,\n",
      "        3.04174900e+00, -3.02621651e+00, -7.34425604e-01,  2.78896272e-01,\n",
      "        3.52283150e-01,  1.44344413e+00, -8.06229949e-01, -5.83925009e-01,\n",
      "        6.21066093e-01, -1.05118573e+00,  8.35603297e-01,  4.00180995e-01,\n",
      "       -1.28851902e+00,  8.46201658e-01, -5.28531551e-01,  8.30040216e-01,\n",
      "       -1.13057756e+00, -1.23820865e+00, -1.34782064e+00,  8.41158509e-01,\n",
      "       -1.28062272e+00,  2.08898336e-01, -1.95007038e+00, -6.70083106e-01,\n",
      "        6.48224473e-01, -9.37087119e-01,  2.10556746e+00, -3.70274067e-01,\n",
      "        2.56791902e+00, -1.24837029e+00,  1.22563410e+00, -2.18630528e+00,\n",
      "        4.15721655e-01,  3.67577672e-01,  7.64593601e-01, -1.37893558e+00,\n",
      "        1.06899589e-01, -2.12456480e-01,  2.43348718e-01,  1.81733295e-01,\n",
      "       -9.80804563e-01,  3.89862448e-01, -3.43725729e+00,  1.52576901e-03,\n",
      "        1.15752971e+00,  7.42830217e-01, -2.22440168e-01,  6.64128125e-01,\n",
      "        1.53505176e-01, -2.69848585e-01, -2.10847402e+00,  1.60026217e+00,\n",
      "        4.13530445e+00, -4.79115009e-01, -2.54533529e+00, -9.16401088e-01,\n",
      "        4.56027120e-01, -4.00804192e-01,  1.63251853e+00,  7.48642921e-01,\n",
      "        2.70441389e+00,  5.54367065e-01, -2.25531697e-01,  2.21962738e+00,\n",
      "        4.45801973e-01, -2.21013689e+00, -2.03744173e+00, -9.41252351e-01,\n",
      "        1.24999130e+00,  7.82664716e-01,  9.33400095e-01, -3.27522028e-03,\n",
      "        8.54603887e-01,  1.02984667e+00, -2.28017664e+00, -1.35358274e+00,\n",
      "       -1.79103541e+00,  4.30181265e+00,  1.18015075e+00, -1.19642639e+00,\n",
      "       -2.65788889e+00, -1.57755566e+00,  7.67703533e-01, -1.03482270e+00,\n",
      "        1.68446743e+00,  5.81240177e-01, -1.79000294e+00,  1.02068102e+00,\n",
      "        3.94289970e+00,  1.41761410e+00,  1.60656556e-01, -7.08673775e-01,\n",
      "        1.00000000e+00])], 'Y': [-1.0, -1.0, -1.0, -1.0, -1.0, 1.0]}\n"
     ]
    }
   ],
   "source": [
    "for p,v in modified_playlists.items():\n",
    "    print(p)\n",
    "    print(v)\n",
    "    X = np.array(v[\"X\"])\n",
    "    Y = np.array(v[\"Y\"])\n",
    "    #self.models[p].fit(X,Y)\n",
    "    #self.m[p] = self.models[p].m\n",
    "    #self.q[p] = self.models[p].q"
   ]
  },
  {
   "cell_type": "code",
   "execution_count": 215,
   "metadata": {},
   "outputs": [
    {
     "data": {
      "text/plain": [
       "(6, 97)"
      ]
     },
     "execution_count": 215,
     "metadata": {},
     "output_type": "execute_result"
    }
   ],
   "source": [
    "X.shape"
   ]
  },
  {
   "cell_type": "code",
   "execution_count": 197,
   "metadata": {},
   "outputs": [],
   "source": [
    "models = [OnlineLogisticRegression(1, 1, user_features.shape[1], -5, 15) for i in range(n_playlists)]"
   ]
  },
  {
   "cell_type": "code",
   "execution_count": 201,
   "metadata": {},
   "outputs": [
    {
     "data": {
      "text/plain": [
       "862"
      ]
     },
     "execution_count": 201,
     "metadata": {},
     "output_type": "execute_result"
    }
   ],
   "source": [
    "len(models)"
   ]
  },
  {
   "cell_type": "code",
   "execution_count": 211,
   "metadata": {},
   "outputs": [
    {
     "data": {
      "text/plain": [
       "array([ 1.27869833, -1.48647507, -0.62202638, -0.75782075,  0.39607624,\n",
       "       -0.54487322, -0.88793485,  1.579089  ,  1.60794286,  1.37056297,\n",
       "       -0.46391536, -1.79913816, -1.78860467,  0.19042472,  0.82060434,\n",
       "        0.29772032, -1.60539102, -0.34645159,  0.98695482, -0.33224903,\n",
       "       -0.50553315, -1.35338951, -0.26477693,  1.26506342,  0.61343787,\n",
       "       -0.61221625,  0.22308549, -0.19776524, -2.13924161,  0.44671884,\n",
       "        1.51436437,  0.72517748, -0.04192129,  2.75094731, -0.55387553,\n",
       "        0.51102139, -1.09876652,  0.42883176, -2.0505891 ,  2.14068369,\n",
       "        0.53210255, -0.71054818, -1.9768875 ,  0.31741762,  0.75528563,\n",
       "       -0.95323037, -1.79168409,  0.69582478, -0.95996757, -0.78318353,\n",
       "        0.89542914, -2.25591422, -0.04669314, -1.67167934,  0.37346505,\n",
       "       -0.75564856,  1.04252998, -0.53527609,  0.22679408,  0.0123912 ,\n",
       "        0.28131679, -2.23992095, -0.41094878,  0.79243092, -1.76195578,\n",
       "        0.83335932, -0.85220451,  1.28711104,  0.35586347, -0.74316255,\n",
       "        1.53739162, -0.82054437,  0.55613905, -0.14986627, -2.13715863,\n",
       "        0.4321644 ,  0.59525866,  0.91783781, -2.18055389,  0.34312103,\n",
       "        0.71142077,  0.9791974 , -1.80523449,  0.11651887, -1.3213152 ,\n",
       "        0.24223726, -0.91866927,  0.28075769, -0.65073126, -0.77661182,\n",
       "       -1.01319475, -1.02737107,  0.83003415,  0.88003409,  0.06614523,\n",
       "       -0.06856934, -4.74356855])"
      ]
     },
     "execution_count": 211,
     "metadata": {},
     "output_type": "execute_result"
    }
   ],
   "source": [
    "OnlineLogisticRegression(1, 1, user_features.shape[1], -5, 15).w"
   ]
  },
  {
   "cell_type": "code",
   "execution_count": 212,
   "metadata": {},
   "outputs": [
    {
     "data": {
      "text/plain": [
       "(97,)"
      ]
     },
     "execution_count": 212,
     "metadata": {},
     "output_type": "execute_result"
    }
   ],
   "source": [
    "np.random.normal(np.zeros(97), 1 * (np.ones(97))**(-1.0), size = 97).shape"
   ]
  }
 ],
 "metadata": {
  "kernelspec": {
   "display_name": "lms",
   "language": "python",
   "name": "python3"
  },
  "language_info": {
   "codemirror_mode": {
    "name": "ipython",
    "version": 3
   },
   "file_extension": ".py",
   "mimetype": "text/x-python",
   "name": "python",
   "nbconvert_exporter": "python",
   "pygments_lexer": "ipython3",
   "version": "3.7.4"
  },
  "orig_nbformat": 4
 },
 "nbformat": 4,
 "nbformat_minor": 2
}
