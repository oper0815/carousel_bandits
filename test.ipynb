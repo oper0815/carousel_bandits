{
 "cells": [
  {
   "cell_type": "code",
   "execution_count": 127,
   "metadata": {},
   "outputs": [],
   "source": [
    "import pandas as pd\n",
    "import numpy as np\n",
    "from scipy.special import expit"
   ]
  },
  {
   "cell_type": "code",
   "execution_count": 3,
   "metadata": {},
   "outputs": [],
   "source": [
    "from environment import ContextualEnvironment\n",
    "from policies import KLUCBSegmentPolicy, RandomPolicy, ExploreThenCommitSegmentPolicy, EpsilonGreedySegmentPolicy, TSSegmentPolicy, LinearTSPolicy\n",
    "import argparse\n",
    "import json\n",
    "import logging\n",
    "import numpy as np\n",
    "import pandas as pd\n",
    "import time"
   ]
  },
  {
   "cell_type": "code",
   "execution_count": 4,
   "metadata": {},
   "outputs": [],
   "source": [
    "parser = argparse.ArgumentParser()\n",
    "parser.add_argument(\"--users_path\", type = str, default = \"data/user_features.csv\", required = False,\n",
    "                    help = \"Path to user features file\")\n",
    "parser.add_argument(\"--playlists_path\", type = str, default = \"data/playlist_features.csv\", required = False,\n",
    "                    help = \"Path to playlist features file\")\n",
    "parser.add_argument(\"--output_path\", type = str, default = \"results.json\", required = False,\n",
    "                    help = \"Path to json file to save regret values\")\n",
    "parser.add_argument(\"--policies\", type = str, default = \"random,ts-seg-naive\", required = False,\n",
    "                    help = \"Bandit algorithms to evaluate, separated by commas\")\n",
    "parser.add_argument(\"--n_recos\", type = int, default = 12, required = False,\n",
    "                    help = \"Number of slots L in the carousel i.e. number of recommendations to provide\")\n",
    "parser.add_argument(\"--l_init\", type = int, default = 3, required = False,\n",
    "                    help = \"Number of slots L_init initially visible in the carousel\")\n",
    "parser.add_argument(\"--n_users_per_round\", type = int, default = 20000, required = False,\n",
    "                    help = \"Number of users randomly selected (with replacement) per round\")\n",
    "parser.add_argument(\"--n_rounds\", type = int, default = 100, required = False,\n",
    "                    help = \"Number of simulated rounds\")\n",
    "parser.add_argument(\"--print_every\", type = int, default = 10, required = False,\n",
    "                    help = \"Print cumulative regrets every 'print_every' round\")\n",
    "\n",
    "args = parser.parse_args(args = [])"
   ]
  },
  {
   "cell_type": "code",
   "execution_count": 5,
   "metadata": {},
   "outputs": [],
   "source": [
    "playlists_df = pd.read_csv('data/playlist_features.csv')\n",
    "\n",
    "users_df = pd.read_csv('data/user_features_small.csv')\n",
    "\n",
    "n_users = len(users_df)\n",
    "n_playlists = len(playlists_df)"
   ]
  },
  {
   "cell_type": "code",
   "execution_count": 6,
   "metadata": {},
   "outputs": [
    {
     "data": {
      "text/html": [
       "<div>\n",
       "<style scoped>\n",
       "    .dataframe tbody tr th:only-of-type {\n",
       "        vertical-align: middle;\n",
       "    }\n",
       "\n",
       "    .dataframe tbody tr th {\n",
       "        vertical-align: top;\n",
       "    }\n",
       "\n",
       "    .dataframe thead th {\n",
       "        text-align: right;\n",
       "    }\n",
       "</style>\n",
       "<table border=\"1\" class=\"dataframe\">\n",
       "  <thead>\n",
       "    <tr style=\"text-align: right;\">\n",
       "      <th></th>\n",
       "      <th>segment</th>\n",
       "      <th>dim_0</th>\n",
       "      <th>dim_1</th>\n",
       "      <th>dim_2</th>\n",
       "      <th>dim_3</th>\n",
       "      <th>dim_4</th>\n",
       "      <th>dim_5</th>\n",
       "      <th>dim_6</th>\n",
       "      <th>dim_7</th>\n",
       "      <th>dim_8</th>\n",
       "      <th>...</th>\n",
       "      <th>dim_86</th>\n",
       "      <th>dim_87</th>\n",
       "      <th>dim_88</th>\n",
       "      <th>dim_89</th>\n",
       "      <th>dim_90</th>\n",
       "      <th>dim_91</th>\n",
       "      <th>dim_92</th>\n",
       "      <th>dim_93</th>\n",
       "      <th>dim_94</th>\n",
       "      <th>dim_95</th>\n",
       "    </tr>\n",
       "  </thead>\n",
       "  <tbody>\n",
       "    <tr>\n",
       "      <th>0</th>\n",
       "      <td>0</td>\n",
       "      <td>0.238895</td>\n",
       "      <td>1.559068</td>\n",
       "      <td>-1.492596</td>\n",
       "      <td>1.041009</td>\n",
       "      <td>2.040157</td>\n",
       "      <td>-2.914569</td>\n",
       "      <td>-0.743588</td>\n",
       "      <td>1.996449</td>\n",
       "      <td>-0.917277</td>\n",
       "      <td>...</td>\n",
       "      <td>-0.652371</td>\n",
       "      <td>-0.539649</td>\n",
       "      <td>0.189309</td>\n",
       "      <td>1.241029</td>\n",
       "      <td>0.767918</td>\n",
       "      <td>0.619496</td>\n",
       "      <td>4.004763</td>\n",
       "      <td>1.312571</td>\n",
       "      <td>-0.441051</td>\n",
       "      <td>0.898858</td>\n",
       "    </tr>\n",
       "    <tr>\n",
       "      <th>1</th>\n",
       "      <td>0</td>\n",
       "      <td>-0.268669</td>\n",
       "      <td>0.617194</td>\n",
       "      <td>-0.742123</td>\n",
       "      <td>1.677183</td>\n",
       "      <td>1.369093</td>\n",
       "      <td>-1.761860</td>\n",
       "      <td>-1.237178</td>\n",
       "      <td>1.276799</td>\n",
       "      <td>-2.924475</td>\n",
       "      <td>...</td>\n",
       "      <td>-0.060747</td>\n",
       "      <td>-1.312460</td>\n",
       "      <td>1.352925</td>\n",
       "      <td>1.251065</td>\n",
       "      <td>-1.624764</td>\n",
       "      <td>1.314707</td>\n",
       "      <td>2.027448</td>\n",
       "      <td>0.988371</td>\n",
       "      <td>-0.314620</td>\n",
       "      <td>1.583408</td>\n",
       "    </tr>\n",
       "    <tr>\n",
       "      <th>2</th>\n",
       "      <td>0</td>\n",
       "      <td>0.730793</td>\n",
       "      <td>1.615805</td>\n",
       "      <td>-0.540211</td>\n",
       "      <td>1.519919</td>\n",
       "      <td>0.474167</td>\n",
       "      <td>-2.616138</td>\n",
       "      <td>-1.168033</td>\n",
       "      <td>0.935113</td>\n",
       "      <td>-1.695110</td>\n",
       "      <td>...</td>\n",
       "      <td>-0.041504</td>\n",
       "      <td>0.456923</td>\n",
       "      <td>0.249240</td>\n",
       "      <td>0.878546</td>\n",
       "      <td>-0.787824</td>\n",
       "      <td>0.495024</td>\n",
       "      <td>1.752296</td>\n",
       "      <td>0.536689</td>\n",
       "      <td>-0.106732</td>\n",
       "      <td>0.516656</td>\n",
       "    </tr>\n",
       "    <tr>\n",
       "      <th>3</th>\n",
       "      <td>0</td>\n",
       "      <td>1.739003</td>\n",
       "      <td>1.546201</td>\n",
       "      <td>0.756946</td>\n",
       "      <td>2.240684</td>\n",
       "      <td>0.636115</td>\n",
       "      <td>-2.327271</td>\n",
       "      <td>-0.684070</td>\n",
       "      <td>1.323303</td>\n",
       "      <td>-3.234894</td>\n",
       "      <td>...</td>\n",
       "      <td>-1.372924</td>\n",
       "      <td>-1.172656</td>\n",
       "      <td>0.859095</td>\n",
       "      <td>1.026131</td>\n",
       "      <td>-0.410318</td>\n",
       "      <td>0.017065</td>\n",
       "      <td>-0.019434</td>\n",
       "      <td>0.003572</td>\n",
       "      <td>-0.638508</td>\n",
       "      <td>0.527119</td>\n",
       "    </tr>\n",
       "    <tr>\n",
       "      <th>4</th>\n",
       "      <td>0</td>\n",
       "      <td>0.060900</td>\n",
       "      <td>1.313942</td>\n",
       "      <td>-0.725372</td>\n",
       "      <td>0.953238</td>\n",
       "      <td>1.338075</td>\n",
       "      <td>-2.561447</td>\n",
       "      <td>-0.384696</td>\n",
       "      <td>1.040172</td>\n",
       "      <td>-1.201964</td>\n",
       "      <td>...</td>\n",
       "      <td>-0.920380</td>\n",
       "      <td>-0.417005</td>\n",
       "      <td>0.705332</td>\n",
       "      <td>0.741709</td>\n",
       "      <td>-1.598617</td>\n",
       "      <td>0.882672</td>\n",
       "      <td>2.023240</td>\n",
       "      <td>0.971578</td>\n",
       "      <td>-0.329573</td>\n",
       "      <td>0.629994</td>\n",
       "    </tr>\n",
       "    <tr>\n",
       "      <th>5</th>\n",
       "      <td>0</td>\n",
       "      <td>-0.337710</td>\n",
       "      <td>0.994489</td>\n",
       "      <td>-1.164420</td>\n",
       "      <td>0.701745</td>\n",
       "      <td>1.000777</td>\n",
       "      <td>-2.537820</td>\n",
       "      <td>-1.059542</td>\n",
       "      <td>1.862303</td>\n",
       "      <td>-2.521206</td>\n",
       "      <td>...</td>\n",
       "      <td>-0.596163</td>\n",
       "      <td>0.675055</td>\n",
       "      <td>-0.310828</td>\n",
       "      <td>-0.541382</td>\n",
       "      <td>-1.274944</td>\n",
       "      <td>1.066462</td>\n",
       "      <td>1.960495</td>\n",
       "      <td>0.638103</td>\n",
       "      <td>0.012242</td>\n",
       "      <td>1.127664</td>\n",
       "    </tr>\n",
       "    <tr>\n",
       "      <th>6</th>\n",
       "      <td>0</td>\n",
       "      <td>0.355553</td>\n",
       "      <td>1.315330</td>\n",
       "      <td>-0.543777</td>\n",
       "      <td>2.493248</td>\n",
       "      <td>3.041749</td>\n",
       "      <td>-3.026217</td>\n",
       "      <td>-0.734426</td>\n",
       "      <td>0.278896</td>\n",
       "      <td>0.352283</td>\n",
       "      <td>...</td>\n",
       "      <td>0.767704</td>\n",
       "      <td>-1.034823</td>\n",
       "      <td>1.684467</td>\n",
       "      <td>0.581240</td>\n",
       "      <td>-1.790003</td>\n",
       "      <td>1.020681</td>\n",
       "      <td>3.942900</td>\n",
       "      <td>1.417614</td>\n",
       "      <td>0.160657</td>\n",
       "      <td>-0.708674</td>\n",
       "    </tr>\n",
       "    <tr>\n",
       "      <th>7</th>\n",
       "      <td>0</td>\n",
       "      <td>-1.163979</td>\n",
       "      <td>-0.476468</td>\n",
       "      <td>-0.853902</td>\n",
       "      <td>0.571501</td>\n",
       "      <td>1.061989</td>\n",
       "      <td>-2.107837</td>\n",
       "      <td>-0.919948</td>\n",
       "      <td>2.836736</td>\n",
       "      <td>-0.982072</td>\n",
       "      <td>...</td>\n",
       "      <td>-0.187124</td>\n",
       "      <td>-0.173995</td>\n",
       "      <td>1.641843</td>\n",
       "      <td>1.497386</td>\n",
       "      <td>-2.708650</td>\n",
       "      <td>1.653540</td>\n",
       "      <td>0.799381</td>\n",
       "      <td>0.541670</td>\n",
       "      <td>0.080587</td>\n",
       "      <td>0.388664</td>\n",
       "    </tr>\n",
       "    <tr>\n",
       "      <th>8</th>\n",
       "      <td>0</td>\n",
       "      <td>0.047584</td>\n",
       "      <td>0.757017</td>\n",
       "      <td>0.299388</td>\n",
       "      <td>1.218914</td>\n",
       "      <td>0.671031</td>\n",
       "      <td>-3.283733</td>\n",
       "      <td>-1.343751</td>\n",
       "      <td>1.252397</td>\n",
       "      <td>-1.550047</td>\n",
       "      <td>...</td>\n",
       "      <td>-0.063909</td>\n",
       "      <td>-0.567261</td>\n",
       "      <td>-0.053998</td>\n",
       "      <td>0.229956</td>\n",
       "      <td>-1.894081</td>\n",
       "      <td>0.711187</td>\n",
       "      <td>2.428878</td>\n",
       "      <td>0.563999</td>\n",
       "      <td>0.439974</td>\n",
       "      <td>0.276861</td>\n",
       "    </tr>\n",
       "  </tbody>\n",
       "</table>\n",
       "<p>9 rows × 97 columns</p>\n",
       "</div>"
      ],
      "text/plain": [
       "   segment     dim_0     dim_1     dim_2     dim_3     dim_4     dim_5  \\\n",
       "0        0  0.238895  1.559068 -1.492596  1.041009  2.040157 -2.914569   \n",
       "1        0 -0.268669  0.617194 -0.742123  1.677183  1.369093 -1.761860   \n",
       "2        0  0.730793  1.615805 -0.540211  1.519919  0.474167 -2.616138   \n",
       "3        0  1.739003  1.546201  0.756946  2.240684  0.636115 -2.327271   \n",
       "4        0  0.060900  1.313942 -0.725372  0.953238  1.338075 -2.561447   \n",
       "5        0 -0.337710  0.994489 -1.164420  0.701745  1.000777 -2.537820   \n",
       "6        0  0.355553  1.315330 -0.543777  2.493248  3.041749 -3.026217   \n",
       "7        0 -1.163979 -0.476468 -0.853902  0.571501  1.061989 -2.107837   \n",
       "8        0  0.047584  0.757017  0.299388  1.218914  0.671031 -3.283733   \n",
       "\n",
       "      dim_6     dim_7     dim_8  ...    dim_86    dim_87    dim_88    dim_89  \\\n",
       "0 -0.743588  1.996449 -0.917277  ... -0.652371 -0.539649  0.189309  1.241029   \n",
       "1 -1.237178  1.276799 -2.924475  ... -0.060747 -1.312460  1.352925  1.251065   \n",
       "2 -1.168033  0.935113 -1.695110  ... -0.041504  0.456923  0.249240  0.878546   \n",
       "3 -0.684070  1.323303 -3.234894  ... -1.372924 -1.172656  0.859095  1.026131   \n",
       "4 -0.384696  1.040172 -1.201964  ... -0.920380 -0.417005  0.705332  0.741709   \n",
       "5 -1.059542  1.862303 -2.521206  ... -0.596163  0.675055 -0.310828 -0.541382   \n",
       "6 -0.734426  0.278896  0.352283  ...  0.767704 -1.034823  1.684467  0.581240   \n",
       "7 -0.919948  2.836736 -0.982072  ... -0.187124 -0.173995  1.641843  1.497386   \n",
       "8 -1.343751  1.252397 -1.550047  ... -0.063909 -0.567261 -0.053998  0.229956   \n",
       "\n",
       "     dim_90    dim_91    dim_92    dim_93    dim_94    dim_95  \n",
       "0  0.767918  0.619496  4.004763  1.312571 -0.441051  0.898858  \n",
       "1 -1.624764  1.314707  2.027448  0.988371 -0.314620  1.583408  \n",
       "2 -0.787824  0.495024  1.752296  0.536689 -0.106732  0.516656  \n",
       "3 -0.410318  0.017065 -0.019434  0.003572 -0.638508  0.527119  \n",
       "4 -1.598617  0.882672  2.023240  0.971578 -0.329573  0.629994  \n",
       "5 -1.274944  1.066462  1.960495  0.638103  0.012242  1.127664  \n",
       "6 -1.790003  1.020681  3.942900  1.417614  0.160657 -0.708674  \n",
       "7 -2.708650  1.653540  0.799381  0.541670  0.080587  0.388664  \n",
       "8 -1.894081  0.711187  2.428878  0.563999  0.439974  0.276861  \n",
       "\n",
       "[9 rows x 97 columns]"
      ]
     },
     "execution_count": 6,
     "metadata": {},
     "output_type": "execute_result"
    }
   ],
   "source": [
    "users_df"
   ]
  },
  {
   "cell_type": "code",
   "execution_count": 7,
   "metadata": {},
   "outputs": [],
   "source": [
    "user_features = np.array(users_df.drop([\"segment\"], axis = 1))\n",
    "user_features = np.concatenate([user_features, np.ones((n_users,1))], axis = 1)\n",
    "playlist_features = np.array(playlists_df)"
   ]
  },
  {
   "cell_type": "code",
   "execution_count": 8,
   "metadata": {},
   "outputs": [],
   "source": [
    "user_segment = np.array(users_df.segment)"
   ]
  },
  {
   "cell_type": "code",
   "execution_count": 9,
   "metadata": {},
   "outputs": [
    {
     "data": {
      "text/plain": [
       "array([0, 0, 0, 0, 0, 0, 0, 0, 0], dtype=int64)"
      ]
     },
     "execution_count": 9,
     "metadata": {},
     "output_type": "execute_result"
    }
   ],
   "source": [
    "user_segment"
   ]
  },
  {
   "cell_type": "code",
   "execution_count": 10,
   "metadata": {},
   "outputs": [],
   "source": [
    "def set_policies(policies_name, user_segment, user_features, n_playlists):\n",
    "    # Please see section 3.3 of RecSys paper for a description of policies\n",
    "    POLICIES_SETTINGS = {\n",
    "        'random' : RandomPolicy(n_playlists),\n",
    "        'etc-seg-explore' : ExploreThenCommitSegmentPolicy(user_segment, n_playlists, min_n = 100, cascade_model = True),\n",
    "        'etc-seg-exploit' : ExploreThenCommitSegmentPolicy(user_segment, n_playlists, min_n = 20, cascade_model = True),\n",
    "        'epsilon-greedy-explore' : EpsilonGreedySegmentPolicy(user_segment, n_playlists, epsilon = 0.1, cascade_model = True),\n",
    "        'epsilon-greedy-exploit' : EpsilonGreedySegmentPolicy(user_segment, n_playlists, epsilon = 0.01, cascade_model = True),\n",
    "        'kl-ucb-seg' : KLUCBSegmentPolicy(user_segment, n_playlists, cascade_model = True),\n",
    "        'ts-seg-naive' : TSSegmentPolicy(user_segment, n_playlists, alpha_zero = 1, beta_zero = 1, cascade_model = True),\n",
    "        'ts-seg-pessimistic' : TSSegmentPolicy(user_segment, n_playlists, alpha_zero = 1, beta_zero = 99, cascade_model = True),\n",
    "        'ts-lin-naive' : LinearTSPolicy(user_features, n_playlists, bias = 0.0, cascade_model = True),\n",
    "        'ts-lin-pessimistic' : LinearTSPolicy(user_features, n_playlists, bias = -5.0, cascade_model = True),\n",
    "        # Versions of epsilon-greedy-explore and ts-seg-pessimistic WITHOUT cascade model\n",
    "        'epsilon-greedy-explore-no-cascade' : EpsilonGreedySegmentPolicy(user_segment, n_playlists, epsilon = 0.1, cascade_model = False),\n",
    "        'ts-seg-pessimistic-no-cascade' : TSSegmentPolicy(user_segment, n_playlists, alpha_zero = 1, beta_zero = 99, cascade_model = False)\n",
    "    }\n",
    "\n",
    "    return [POLICIES_SETTINGS[name] for name in policies_name]"
   ]
  },
  {
   "cell_type": "code",
   "execution_count": 11,
   "metadata": {},
   "outputs": [],
   "source": [
    "po = 'random,etc-seg-explore,ts-seg-pessimistic'\n",
    "policies_name = po.split(\",\")"
   ]
  },
  {
   "cell_type": "code",
   "execution_count": 12,
   "metadata": {},
   "outputs": [],
   "source": [
    "policies = set_policies(policies_name, user_segment, user_features, n_playlists)"
   ]
  },
  {
   "cell_type": "code",
   "execution_count": 13,
   "metadata": {},
   "outputs": [],
   "source": [
    "n_policies = len(policies) # 3\n",
    "n_users_per_round = args.n_users_per_round\n",
    "n_rounds = args.n_rounds\n",
    "overall_rewards = np.zeros((n_policies, n_rounds))\n",
    "overall_optimal_reward = np.zeros(n_rounds)"
   ]
  },
  {
   "cell_type": "code",
   "execution_count": 40,
   "metadata": {},
   "outputs": [],
   "source": [
    "cont_env = ContextualEnvironment(user_features, playlist_features, user_segment, args.n_recos)"
   ]
  },
  {
   "cell_type": "code",
   "execution_count": 46,
   "metadata": {},
   "outputs": [
    {
     "data": {
      "text/plain": [
       "array([0.51069545, 0.60661954, 0.45462272, 0.35597582, 0.45974146,\n",
       "       0.33826388, 0.94396647, 0.6756706 , 0.35810638])"
      ]
     },
     "execution_count": 46,
     "metadata": {},
     "output_type": "execute_result"
    }
   ],
   "source": [
    "cont_env.th_rewards"
   ]
  },
  {
   "cell_type": "code",
   "execution_count": 45,
   "metadata": {},
   "outputs": [
    {
     "data": {
      "text/plain": [
       "10524.104014608263"
      ]
     },
     "execution_count": 45,
     "metadata": {},
     "output_type": "execute_result"
    }
   ],
   "source": [
    "np.take(cont_env.th_rewards, user_ids).sum()"
   ]
  },
  {
   "cell_type": "code",
   "execution_count": null,
   "metadata": {},
   "outputs": [],
   "source": [
    "'''\n",
    "1. 라운드 별 user_id 선정\n",
    "\n",
    "'''\n",
    "\n",
    "for i in range(n_rounds):\n",
    "    # Select batch of n_users_per_round users\n",
    "    user_ids = np.random.choice(range(n_users), n_users_per_round) # range & 수 > 중복되는 user_id가 있는데..?\n",
    "    overall_optimal_reward[i] = np.take(cont_env.th_rewards, user_ids).sum()\n",
    "    # Iterate over all policies\n",
    "    for j in range(n_policies):\n",
    "        # Compute n_recos recommendations\n",
    "        recos = policies[j].recommend_to_users_batch(user_ids, args.n_recos, args.l_init)\n",
    "        # Compute rewards\n",
    "        rewards = cont_env.simulate_batch_users_reward(batch_user_ids= user_ids, batch_recos=recos)\n",
    "        # Update policy based on rewards\n",
    "        policies[j].update_policy(user_ids, recos, rewards, args.l_init)\n",
    "        overall_rewards[j,i] = rewards.sum()\n",
    "    # Print info\n",
    "    if i == 0 or (i+1) % print_every == 0 or i+1 == n_rounds:\n",
    "        logger.info(\"Round: %d/%d. Elapsed time: %f sec.\" % (i+1, n_rounds, time.time() - start_time))\n",
    "        logger.info(\"Cumulative regrets: \\n%s \\n\" % \"\\n\".join([\"\t%s : %s\" % (policies_name[j], str(np.sum(overall_optimal_reward - overall_rewards[j]))) for j in range(n_policies)]))\n"
   ]
  },
  {
   "cell_type": "code",
   "execution_count": 51,
   "metadata": {},
   "outputs": [],
   "source": [
    "n_users = 9\n",
    "u = 0\n",
    "step = 100000"
   ]
  },
  {
   "cell_type": "code",
   "execution_count": null,
   "metadata": {},
   "outputs": [],
   "source": [
    "users_ids = range(u, min(n_users, u + step)) # 더 작은 항목 > 마지막 배치 job 때를 위해                       # \n",
    "opt_recos = self.compute_optimal_recos(users_ids, self.n_recos)\n",
    "opt_rewards = self.compute_theoretical_rewards(users_ids, opt_recos)\n",
    "self.th_rewards[u:min(n_users, u + step)] = opt_rewards\n",
    "u += step"
   ]
  },
  {
   "cell_type": "code",
   "execution_count": 91,
   "metadata": {},
   "outputs": [],
   "source": [
    "probas = np.take(user_features, range(0,9), axis = 0).dot(playlist_features.T)"
   ]
  },
  {
   "cell_type": "code",
   "execution_count": 102,
   "metadata": {},
   "outputs": [],
   "source": [
    "so = np.argsort(-probas)[:, :12]"
   ]
  },
  {
   "cell_type": "code",
   "execution_count": 135,
   "metadata": {},
   "outputs": [],
   "source": [
    "so1 = np.take(playlist_features, so, axis = 0)"
   ]
  },
  {
   "cell_type": "code",
   "execution_count": 143,
   "metadata": {},
   "outputs": [
    {
     "data": {
      "text/plain": [
       "(12, 97)"
      ]
     },
     "execution_count": 143,
     "metadata": {},
     "output_type": "execute_result"
    }
   ],
   "source": [
    "so1[0].shape"
   ]
  },
  {
   "cell_type": "code",
   "execution_count": 128,
   "metadata": {},
   "outputs": [
    {
     "ename": "ValueError",
     "evalue": "shapes (97,) and (12,) not aligned: 97 (dim 0) != 12 (dim 0)",
     "output_type": "error",
     "traceback": [
      "\u001b[1;31m---------------------------------------------------------------------------\u001b[0m",
      "\u001b[1;31mValueError\u001b[0m                                Traceback (most recent call last)",
      "\u001b[1;32m<ipython-input-128-c94a5f32f3a8>\u001b[0m in \u001b[0;36m<module>\u001b[1;34m\u001b[0m\n\u001b[0;32m      1\u001b[0m \u001b[1;32mfor\u001b[0m \u001b[0mi\u001b[0m \u001b[1;32min\u001b[0m \u001b[0mrange\u001b[0m\u001b[1;33m(\u001b[0m\u001b[1;36m9\u001b[0m\u001b[1;33m)\u001b[0m\u001b[1;33m:\u001b[0m                                                            \u001b[1;31m# user 수 만큼 for 문 수행\u001b[0m\u001b[1;33m\u001b[0m\u001b[1;33m\u001b[0m\u001b[0m\n\u001b[1;32m----> 2\u001b[1;33m     \u001b[0mprobas\u001b[0m \u001b[1;33m=\u001b[0m \u001b[0mexpit\u001b[0m\u001b[1;33m(\u001b[0m\u001b[0mnp\u001b[0m\u001b[1;33m.\u001b[0m\u001b[0mtake\u001b[0m\u001b[1;33m(\u001b[0m\u001b[0muser_features\u001b[0m\u001b[1;33m,\u001b[0m \u001b[0mrange\u001b[0m\u001b[1;33m(\u001b[0m\u001b[1;36m0\u001b[0m\u001b[1;33m,\u001b[0m\u001b[1;36m9\u001b[0m\u001b[1;33m)\u001b[0m\u001b[1;33m,\u001b[0m \u001b[0maxis\u001b[0m \u001b[1;33m=\u001b[0m \u001b[1;36m0\u001b[0m\u001b[1;33m)\u001b[0m\u001b[1;33m[\u001b[0m\u001b[0mi\u001b[0m\u001b[1;33m]\u001b[0m\u001b[1;33m.\u001b[0m\u001b[0mdot\u001b[0m\u001b[1;33m(\u001b[0m\u001b[0mso\u001b[0m\u001b[1;33m[\u001b[0m\u001b[0mi\u001b[0m\u001b[1;33m]\u001b[0m\u001b[1;33m.\u001b[0m\u001b[0mT\u001b[0m\u001b[1;33m)\u001b[0m\u001b[1;33m)\u001b[0m        \u001b[1;31m# sigmoid\u001b[0m\u001b[1;33m\u001b[0m\u001b[1;33m\u001b[0m\u001b[0m\n\u001b[0m\u001b[0;32m      3\u001b[0m     \u001b[0mprint\u001b[0m\u001b[1;33m(\u001b[0m\u001b[0mprobas\u001b[0m\u001b[1;33m)\u001b[0m\u001b[1;33m\u001b[0m\u001b[1;33m\u001b[0m\u001b[0m\n\u001b[0;32m      4\u001b[0m     \u001b[1;31m#th_reward[i] = 1 - reduce(lambda x,y : x * y, 1 - probas)\u001b[0m\u001b[1;33m\u001b[0m\u001b[1;33m\u001b[0m\u001b[1;33m\u001b[0m\u001b[0m\n",
      "\u001b[1;31mValueError\u001b[0m: shapes (97,) and (12,) not aligned: 97 (dim 0) != 12 (dim 0)"
     ]
    }
   ],
   "source": [
    "for i in range(9):                                                            # user 수 만큼 for 문 수행\n",
    "    probas = expit(np.take(user_features, range(0,9), axis = 0)[i].dot(so1[i].T))        # sigmoid \n",
    "    print(probas)\n",
    "    #th_reward[i] = 1 - reduce(lambda x,y : x * y, 1 - probas)"
   ]
  },
  {
   "cell_type": "code",
   "execution_count": null,
   "metadata": {},
   "outputs": [],
   "source": [
    "    def compute_theoretical_rewards(self, batch_user_ids, batch_recos):\n",
    "        batch_user_features = np.take(self.user_features, batch_user_ids, axis = 0)         # batch 안에 있는 user에 대한 user_feature만 추출\n",
    "        batch_playlist_features = np.take(self.playlist_features, batch_recos, axis = 0)    # 추천리스트에 있는 item에 대한 feature 추출\n",
    "        n_users = len(batch_user_ids)                                                       # batch 내에 있는 유저 수\n",
    "        th_reward = np.zeros(n_users)                                                       # zero vector 생성 (user 수)\n",
    "        for i in range(n_users):                                                            # user 수 만큼 for 문 수행\n",
    "            probas = expit(batch_user_features[i].dot(batch_playlist_features[i].T))        # sigmoid \n",
    "            th_reward[i] = 1 - reduce(lambda x,y : x * y, 1 - probas)\n",
    "        return th_reward"
   ]
  },
  {
   "cell_type": "code",
   "execution_count": null,
   "metadata": {},
   "outputs": [],
   "source": []
  },
  {
   "cell_type": "code",
   "execution_count": null,
   "metadata": {},
   "outputs": [],
   "source": []
  }
 ],
 "metadata": {
  "kernelspec": {
   "display_name": "lms",
   "language": "python",
   "name": "python3"
  },
  "language_info": {
   "codemirror_mode": {
    "name": "ipython",
    "version": 3
   },
   "file_extension": ".py",
   "mimetype": "text/x-python",
   "name": "python",
   "nbconvert_exporter": "python",
   "pygments_lexer": "ipython3",
   "version": "3.7.4"
  },
  "orig_nbformat": 4
 },
 "nbformat": 4,
 "nbformat_minor": 2
}
